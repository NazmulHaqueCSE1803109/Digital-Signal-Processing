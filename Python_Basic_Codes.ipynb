{
  "nbformat": 4,
  "nbformat_minor": 0,
  "metadata": {
    "colab": {
      "provenance": [],
      "collapsed_sections": [
        "jboXDgC_gOAe",
        "4NgkfM0wg7ga",
        "70-dCv-pkDUG",
        "uk2RRI4zliL1",
        "Ux_BV1cDmu4F",
        "175b-q-qoxlI",
        "te9NQJkTs4FS",
        "ERRKHpv2uH2j",
        "aIIQBf5avaq1",
        "AWkcoS5Cyft5",
        "ssctnlto1rDq",
        "dsM5hvGK9l2V",
        "TyoKGNr1-tr5",
        "BD31UFpk_1HM",
        "rUH7t_mUAnHy",
        "INtq8RS4BLUI",
        "bCS6pcelFEjR",
        "yTx1Dt43G7gC",
        "Mx0tqhXUHy3i",
        "Z2sCW1xKM1Zi"
      ]
    },
    "kernelspec": {
      "name": "python3",
      "display_name": "Python 3"
    },
    "language_info": {
      "name": "python"
    }
  },
  "cells": [
    {
      "cell_type": "markdown",
      "source": [
        "###python comments.."
      ],
      "metadata": {
        "id": "jboXDgC_gOAe"
      }
    },
    {
      "cell_type": "code",
      "source": [
        "#print a name..\n",
        "print(\"nazmul\")\n",
        "\n",
        "# we can print multiple string using triple qutation...\n",
        "\"\"\"\n",
        "using print() we can print something...\n",
        "\"\"\""
      ],
      "metadata": {
        "colab": {
          "base_uri": "https://localhost:8080/",
          "height": 53
        },
        "id": "sSHpYPNAgNMv",
        "outputId": "a4fa8afc-7ea6-4e81-dd1e-ccfcfe44eaac"
      },
      "execution_count": null,
      "outputs": [
        {
          "output_type": "stream",
          "name": "stdout",
          "text": [
            "nazmul\n"
          ]
        },
        {
          "output_type": "execute_result",
          "data": {
            "text/plain": [
              "'\\nusing print() we can print something...\\n'"
            ],
            "application/vnd.google.colaboratory.intrinsic+json": {
              "type": "string"
            }
          },
          "metadata": {},
          "execution_count": 1
        }
      ]
    },
    {
      "cell_type": "markdown",
      "source": [
        "## Python variable"
      ],
      "metadata": {
        "id": "4NgkfM0wg7ga"
      }
    },
    {
      "cell_type": "code",
      "source": [
        "# Python has no command for declaring a variable.\n",
        "# A variable is created the moment you first assign a value to it.\n",
        "\n",
        "# Creating Variables:\n",
        "x=4\n",
        "y=7.7\n",
        "z=\"nazmul haque\"\n",
        "\n",
        "print(x)\n",
        "print(y)\n",
        "print(z)\n",
        "\n",
        "\n",
        "# Casting::\n",
        "# If you want to specify the data type of a variable, this can be done with casting.\n",
        "x=int(5)\n",
        "y=str(5)\n",
        "z=float(5)\n",
        "print(x)\n",
        "print(y)\n",
        "print(z)\n",
        "\n",
        "\n",
        "# Get the Type::\n",
        "# You can get the data type of a variable with the type() function.\n",
        "\n",
        "print(type(x))\n",
        "print(type(y))\n",
        "print(type(z))\n",
        "\n",
        "\n",
        "# Single or Double Quotes?\n",
        "#String variables can be declared either by using single or double quotes:\n",
        "x=\"hello,world!\"\n",
        "y='hello,nazmul'\n",
        "print(x)\n",
        "print(y)\n",
        "\n",
        "\n",
        "# Case-Sensitive:\n",
        "# Variable names are case-sensitive.\n",
        "x=5\n",
        "X=6\n",
        "print(x)\n",
        "print(X)"
      ],
      "metadata": {
        "colab": {
          "base_uri": "https://localhost:8080/"
        },
        "id": "3ILFm42Kg-5i",
        "outputId": "5c400fb5-f0bf-4be4-af35-05c684738e9e"
      },
      "execution_count": null,
      "outputs": [
        {
          "output_type": "stream",
          "name": "stdout",
          "text": [
            "4\n",
            "7.7\n",
            "nazmul haque\n",
            "5\n",
            "5\n",
            "5.0\n",
            "<class 'int'>\n",
            "<class 'str'>\n",
            "<class 'float'>\n",
            "hello,world!\n",
            "hello,nazmul\n",
            "5\n",
            "6\n"
          ]
        }
      ]
    },
    {
      "cell_type": "markdown",
      "source": [
        "# Python-variables name.."
      ],
      "metadata": {
        "id": "70-dCv-pkDUG"
      }
    },
    {
      "cell_type": "code",
      "source": [
        "\"\"\"\n",
        "A variable can have a short name (like x and y) or a more descriptive name (age, carname, total_volume). Rules for Python variables:\n",
        "A variable name must start with a letter or the underscore character\n",
        "A variable name cannot start with a number\n",
        "A variable name can only contain alpha-numeric characters and underscores (A-z, 0-9, and _ )\n",
        "Variable names are case-sensitive (age, Age and AGE are three different variables)\n",
        "A variable name cannot be any of the Python keywords.\n",
        "\"\"\""
      ],
      "metadata": {
        "colab": {
          "base_uri": "https://localhost:8080/",
          "height": 107
        },
        "id": "rRATziKqkF6s",
        "outputId": "5278b598-0fd6-4f5b-d4be-123190f5f745"
      },
      "execution_count": null,
      "outputs": [
        {
          "output_type": "execute_result",
          "data": {
            "text/plain": [
              "'\\nA variable can have a short name (like x and y) or a more descriptive name (age, carname, total_volume). Rules for Python variables:\\nA variable name must start with a letter or the underscore character\\nA variable name cannot start with a number\\nA variable name can only contain alpha-numeric characters and underscores (A-z, 0-9, and _ )\\nVariable names are case-sensitive (age, Age and AGE are three different variables)\\nA variable name cannot be any of the Python keywords.\\n'"
            ],
            "application/vnd.google.colaboratory.intrinsic+json": {
              "type": "string"
            }
          },
          "metadata": {},
          "execution_count": 8
        }
      ]
    },
    {
      "cell_type": "markdown",
      "source": [
        "# Assign multiple variable.."
      ],
      "metadata": {
        "id": "uk2RRI4zliL1"
      }
    },
    {
      "cell_type": "code",
      "source": [
        "# Many Values to Multiple Variables\n",
        "x,y,z=3,5.4,'hi'\n",
        "print(x)\n",
        "print(y)\n",
        "print(z)\n",
        "\n",
        "\n",
        "# One Value to Multiple Variables\n",
        "x=y=z='hello'\n",
        "print(x)\n",
        "print(y)\n",
        "print(z)\n",
        "\n",
        "\n",
        "# Unpack a Collection\n",
        "#If you have a collection of values in a list, tuple etc. Python allows you to extract the values into variables. This is called unpacking.\n",
        "\n",
        "num=[1,2,3]\n",
        "x,y,z=num\n",
        "print(x)\n",
        "print(y)\n",
        "print(z)"
      ],
      "metadata": {
        "colab": {
          "base_uri": "https://localhost:8080/"
        },
        "id": "02Y9BXz-llr9",
        "outputId": "a111c4ce-f323-486e-a1f9-698e3e737fcb"
      },
      "execution_count": null,
      "outputs": [
        {
          "output_type": "stream",
          "name": "stdout",
          "text": [
            "3\n",
            "5.4\n",
            "hi\n",
            "hello\n",
            "hello\n",
            "hello\n",
            "1\n",
            "2\n",
            "3\n"
          ]
        }
      ]
    },
    {
      "cell_type": "markdown",
      "source": [
        "# Python -output variables"
      ],
      "metadata": {
        "id": "Ux_BV1cDmu4F"
      }
    },
    {
      "cell_type": "code",
      "source": [
        "# The Python print() function is often used to output variables.\n",
        "print(\"hi\")\n",
        "\n",
        "\n",
        "# In the print() function, you output multiple variables, separated by a comma:\n",
        "x='python'\n",
        "y='is'\n",
        "z='awesome'\n",
        "\n",
        "print(x,y,z)\n",
        "\n",
        "\n",
        "# You can also use the + operator to output multiple variables:\n",
        "x='python'\n",
        "y='is'\n",
        "z='awesome'\n",
        "\n",
        "print(x +  y  +  z)\n",
        "\n",
        "\n",
        "\n",
        "# For numbers, the + character works as a mathematical operator:\n",
        "x=3\n",
        "y=5\n",
        "print(x+y)\n",
        "\n",
        "# In the print() function, when you try to combine a string and a number with the + operator, Python will give you an error:\n",
        "#x=3\n",
        "#y='hi'\n",
        "#print(x+y)\n"
      ],
      "metadata": {
        "colab": {
          "base_uri": "https://localhost:8080/"
        },
        "id": "5oWDV92Sm2VG",
        "outputId": "4560e4ce-5bf8-404d-bda2-8322c20cb512"
      },
      "execution_count": null,
      "outputs": [
        {
          "output_type": "stream",
          "name": "stdout",
          "text": [
            "hi\n",
            "python is awesome\n",
            "pythonisawesome\n",
            "8\n"
          ]
        }
      ]
    },
    {
      "cell_type": "markdown",
      "source": [
        "# Python - Global Variables"
      ],
      "metadata": {
        "id": "175b-q-qoxlI"
      }
    },
    {
      "cell_type": "code",
      "source": [
        "# Variables that are created outside of a function (as in all of the examples above) are known as global variables.\n",
        "\n",
        "# Global variables can be used by everyone, both inside of functions and outside.\n",
        "\n",
        "\n",
        "x='awesome'\n",
        "\n",
        "def func():\n",
        "   print('python is '+ x)\n",
        "\n",
        "func()\n",
        "\n",
        "\n",
        "\n",
        "# If you create a variable with the same name inside a function, this variable will be local, and can only be used inside the function. The global variable with the same name will remain as it was, global and with the original value.\n",
        "x='awesome'\n",
        "\n",
        "def func():\n",
        "  x='fantastic'\n",
        "  print('python is '+ x)\n",
        "\n",
        "func()\n",
        "print('python is '+ x)\n",
        "\n",
        "\n",
        "\n",
        "# To change the value of a global variable inside a function, refer to the variable by using the global keyword:\n",
        "\n",
        "x='awesome'\n",
        "\n",
        "def func():\n",
        "  global x\n",
        "  x='fantastic'\n",
        "  print('python is '+ x)\n",
        "\n",
        "func()\n",
        "print('python is '+ x)"
      ],
      "metadata": {
        "colab": {
          "base_uri": "https://localhost:8080/"
        },
        "id": "m8E9aBZnozk_",
        "outputId": "1d3e345e-0b85-4abb-d9ae-b06c4c72a954"
      },
      "execution_count": null,
      "outputs": [
        {
          "output_type": "stream",
          "name": "stdout",
          "text": [
            "python is awesome\n",
            "python is fantastic\n",
            "python is awesome\n",
            "python is fantastic\n",
            "python is fantastic\n"
          ]
        }
      ]
    },
    {
      "cell_type": "markdown",
      "source": [
        "# Python Data Type"
      ],
      "metadata": {
        "id": "te9NQJkTs4FS"
      }
    },
    {
      "cell_type": "code",
      "source": [
        "\"\"\"\n",
        "Built-in Data Types\n",
        "In programming, data type is an important concept.\n",
        "\n",
        "Variables can store data of different types, and different types can do different things.\n",
        "\n",
        "Python has the following data types built-in by default, in these categories:\n",
        "\n",
        "Text Type:\tstr\n",
        "Numeric Types:\tint, float, complex\n",
        "Sequence Types:\tlist, tuple, range\n",
        "Mapping Type:\tdict\n",
        "Set Types:\tset, frozenset\n",
        "Boolean Type:\tbool\n",
        "Binary Types:\tbytes, bytearray, memoryview\n",
        "None Type:\tNoneType\n",
        "\"\"\""
      ],
      "metadata": {
        "colab": {
          "base_uri": "https://localhost:8080/",
          "height": 107
        },
        "id": "CD7c3nyhs9AM",
        "outputId": "e93acf96-adca-431e-d537-f66752ffccba"
      },
      "execution_count": null,
      "outputs": [
        {
          "output_type": "execute_result",
          "data": {
            "text/plain": [
              "'\\nBuilt-in Data Types\\nIn programming, data type is an important concept.\\n\\nVariables can store data of different types, and different types can do different things.\\n\\nPython has the following data types built-in by default, in these categories:\\n\\nText Type:\\tstr\\nNumeric Types:\\tint, float, complex\\nSequence Types:\\tlist, tuple, range\\nMapping Type:\\tdict\\nSet Types:\\tset, frozenset\\nBoolean Type:\\tbool\\nBinary Types:\\tbytes, bytearray, memoryview\\nNone Type:\\tNoneType\\n'"
            ],
            "application/vnd.google.colaboratory.intrinsic+json": {
              "type": "string"
            }
          },
          "metadata": {},
          "execution_count": 22
        }
      ]
    },
    {
      "cell_type": "markdown",
      "source": [
        "# Python numbers"
      ],
      "metadata": {
        "id": "ERRKHpv2uH2j"
      }
    },
    {
      "cell_type": "code",
      "source": [
        "# Variables of numeric types are created when you assign a value to them:\n",
        "x = 1    # int\n",
        "y = 2.8  # float\n",
        "z = 1j   # complex\n",
        "print(type(x))\n",
        "print(type(y))\n",
        "print(type(z))\n",
        "\n",
        "\n",
        "# int:\n",
        "# Int, or integer, is a whole number, positive or negative, without decimals, of unlimited length.\n",
        "\n",
        "x = 1\n",
        "y = 35656222554887711\n",
        "z = -3255522\n",
        "\n",
        "print(type(x))\n",
        "print(type(y))\n",
        "print(type(z))\n",
        "\n",
        "\n",
        "# float:\n",
        "# Float, or \"floating point number\" is a number, positive or negative, containing one or more decimals.\n",
        "x = 1.10\n",
        "y = 1.0\n",
        "z = -35.59\n",
        "\n",
        "print(type(x))\n",
        "print(type(y))\n",
        "print(type(z))\n",
        "\n",
        "\n",
        "\n",
        "# Type Conversion\n",
        "# You can convert from one type to another with the int(), float(), and complex() methods:\n",
        "x = 1    # int\n",
        "y = 2.8  # float\n",
        "z = 1j   # complex\n",
        "\n",
        "#convert from int to float:\n",
        "a = float(x)\n",
        "\n",
        "#convert from float to int:\n",
        "b = int(y)\n",
        "\n",
        "#convert from int to complex:\n",
        "c = complex(x)\n",
        "\n",
        "print(a)\n",
        "print(b)\n",
        "print(c)\n",
        "\n",
        "print(type(a))\n",
        "print(type(b))\n",
        "print(type(c))"
      ],
      "metadata": {
        "colab": {
          "base_uri": "https://localhost:8080/"
        },
        "id": "BsJBn02luKPh",
        "outputId": "79c6d668-6bda-40f1-ecc9-8f32a2fe9d1e"
      },
      "execution_count": null,
      "outputs": [
        {
          "output_type": "stream",
          "name": "stdout",
          "text": [
            "<class 'int'>\n",
            "<class 'float'>\n",
            "<class 'complex'>\n",
            "<class 'int'>\n",
            "<class 'int'>\n",
            "<class 'int'>\n",
            "<class 'float'>\n",
            "<class 'float'>\n",
            "<class 'float'>\n",
            "1.0\n",
            "2\n",
            "(1+0j)\n",
            "<class 'float'>\n",
            "<class 'int'>\n",
            "<class 'complex'>\n"
          ]
        }
      ]
    },
    {
      "cell_type": "markdown",
      "source": [
        "# Python random number generation"
      ],
      "metadata": {
        "id": "aIIQBf5avaq1"
      }
    },
    {
      "cell_type": "code",
      "source": [
        "# Random Number:\n",
        "# Python does not have a random() function to make a random number, but Python has a built-in module called random that can be used to make random numbers:\n",
        "\n",
        "import random\n",
        "print(random.randrange(1,10)) # generate one random number between 1-10"
      ],
      "metadata": {
        "colab": {
          "base_uri": "https://localhost:8080/"
        },
        "id": "FmXhAWWSvfvD",
        "outputId": "5109814b-c787-4119-ec74-f5370c035539"
      },
      "execution_count": null,
      "outputs": [
        {
          "output_type": "stream",
          "name": "stdout",
          "text": [
            "5\n"
          ]
        }
      ]
    },
    {
      "cell_type": "markdown",
      "source": [
        "# Python String"
      ],
      "metadata": {
        "id": "AWkcoS5Cyft5"
      }
    },
    {
      "cell_type": "code",
      "source": [
        "'''\n",
        "Strings are Arrays\n",
        "Like many other popular programming languages, strings in Python are arrays of bytes representing unicode characters.\n",
        "\n",
        "However, Python does not have a character data type, a single character is simply a string with a length of 1.\n",
        "\n",
        "Square brackets can be used to access elements of the string.\n",
        "'''\n",
        "\n",
        "# Get the character at position 1 (remember that the first character has the position 0):\n",
        "x='nazmul'\n",
        "print(x[3])\n",
        "\n",
        "print('Looping Through a String')\n",
        "# Looping Through a String:\n",
        "# Since strings are arrays, we can loop through the characters in a string, with a for loop.\n",
        "\n",
        "x='nazmul'\n",
        "for i in x:\n",
        "  print(i)\n",
        "\n",
        "print('String Length')\n",
        "print(len(x))\n",
        "\n",
        "\n",
        "\n",
        "# Check String:\n",
        "# To check if a certain phrase or character is present in a string, we can use the keyword in.\n",
        "print('Check String')\n",
        "\n",
        "x='allah is almighty'\n",
        "if 'is' in x:\n",
        "  print('yes, is exist in x')\n",
        "else:\n",
        "  print('no, is not exist in x')\n",
        "\n",
        "\n",
        "\n",
        "# Check if NOT\n",
        "print('check if not')\n",
        "\n",
        "print('Check String')\n",
        "\n",
        "x='allah almighty'\n",
        "if 'is' not in x:\n",
        "  print('no, is not exist in x')\n",
        "else:\n",
        "  print('yes, is exist in x')\n"
      ],
      "metadata": {
        "colab": {
          "base_uri": "https://localhost:8080/"
        },
        "id": "9uYN7La8yiQR",
        "outputId": "b16174b3-05aa-4650-e0a7-3802abff762f"
      },
      "execution_count": null,
      "outputs": [
        {
          "output_type": "stream",
          "name": "stdout",
          "text": [
            "m\n",
            "Looping Through a String\n",
            "n\n",
            "a\n",
            "z\n",
            "m\n",
            "u\n",
            "l\n",
            "String Length\n",
            "6\n",
            "Check String\n",
            "yes, is exist in x\n",
            "check if not\n",
            "Check String\n",
            "no, is not exist in x\n"
          ]
        }
      ]
    },
    {
      "cell_type": "markdown",
      "source": [
        "# Python - Slicing Strings"
      ],
      "metadata": {
        "id": "ssctnlto1rDq"
      }
    },
    {
      "cell_type": "code",
      "source": [
        "'''\n",
        "Slicing\n",
        "You can return a range of characters by using the slice syntax.\n",
        "\n",
        "Specify the start index and the end index, separated by a colon, to return a part of the string.\n",
        "'''\n",
        "x='nazmul'\n",
        "print(x[1:4])\n",
        "print(x[:3])\n",
        "print(x[1:])\n",
        "\n",
        "\n",
        "# Negative Indexing\n",
        "# Use negative indexes to start the slice from the end of the string:\n",
        "x='nazmul'\n",
        "print(x[-4:-1])"
      ],
      "metadata": {
        "colab": {
          "base_uri": "https://localhost:8080/"
        },
        "id": "Xk5v1BYk1svZ",
        "outputId": "649c1951-3d02-4e17-dd93-566ac0f4338a"
      },
      "execution_count": null,
      "outputs": [
        {
          "output_type": "stream",
          "name": "stdout",
          "text": [
            "azm\n",
            "naz\n",
            "azmul\n",
            "zmu\n"
          ]
        }
      ]
    },
    {
      "cell_type": "markdown",
      "source": [
        "# Modify string"
      ],
      "metadata": {
        "id": "dsM5hvGK9l2V"
      }
    },
    {
      "cell_type": "code",
      "source": [
        "a='Hello, World  '\n",
        "\n",
        "# Upper Case\n",
        "print(a.upper())\n",
        "\n",
        "# Lower Case\n",
        "print(a.lower())\n",
        "\n",
        "# Split String\n",
        "print(a.split(','))\n",
        "\n",
        "# Remove Whitespace\n",
        "print(a.strip())\n",
        "\n",
        "# Replace String\n",
        "print(a.replace('H','T'))"
      ],
      "metadata": {
        "colab": {
          "base_uri": "https://localhost:8080/"
        },
        "id": "d_ZrYgPx9qNi",
        "outputId": "c3725440-1605-4e65-ab2a-87abaa3e1d1a"
      },
      "execution_count": null,
      "outputs": [
        {
          "output_type": "stream",
          "name": "stdout",
          "text": [
            "HELLO, WORLD  \n",
            "hello, world  \n",
            "['Hello', ' World  ']\n",
            "Hello, World\n",
            "Tello, World  \n"
          ]
        }
      ]
    },
    {
      "cell_type": "markdown",
      "source": [
        "# Python - String Concatenation"
      ],
      "metadata": {
        "id": "TyoKGNr1-tr5"
      }
    },
    {
      "cell_type": "code",
      "source": [
        "x='Nazmul'\n",
        "y=\"Haque\"\n",
        "z=x+y\n",
        "print(z)\n",
        "\n",
        "# or\n",
        "\n",
        "print(x + ' ' + y)"
      ],
      "metadata": {
        "colab": {
          "base_uri": "https://localhost:8080/"
        },
        "id": "JJ30HmUO-vEy",
        "outputId": "777a594c-6337-43bd-be7b-5536cd798abf"
      },
      "execution_count": null,
      "outputs": [
        {
          "output_type": "stream",
          "name": "stdout",
          "text": [
            "NazmulHaque\n",
            "Nazmul Haque\n"
          ]
        }
      ]
    },
    {
      "cell_type": "markdown",
      "source": [
        "# Python - Format - Strings"
      ],
      "metadata": {
        "id": "BD31UFpk_1HM"
      }
    },
    {
      "cell_type": "code",
      "source": [
        "quantity = 3\n",
        "itemno = 567\n",
        "price = 49.95\n",
        "myorder = \"I want to pay {2} dollars for {0} pieces of item {1}.\"\n",
        "print(myorder.format(quantity, itemno, price))"
      ],
      "metadata": {
        "colab": {
          "base_uri": "https://localhost:8080/"
        },
        "id": "_2c-o6Et_2Th",
        "outputId": "0f45c5da-5cd8-4f0e-c2a3-2b24809c667d"
      },
      "execution_count": null,
      "outputs": [
        {
          "output_type": "stream",
          "name": "stdout",
          "text": [
            "I want to pay 49.95 dollars for 3 pieces of item 567.\n"
          ]
        }
      ]
    },
    {
      "cell_type": "markdown",
      "source": [
        "# Escape Character"
      ],
      "metadata": {
        "id": "rUH7t_mUAnHy"
      }
    },
    {
      "cell_type": "code",
      "source": [
        "# The escape character allows you to use double quotes when you normally would not be allowed:\n",
        "txt = \"We are the so-called \\\"Vikings\\\" from the north.\"\n",
        "print(txt)"
      ],
      "metadata": {
        "colab": {
          "base_uri": "https://localhost:8080/"
        },
        "id": "z4em9r4mAqCJ",
        "outputId": "07f6076c-d4b6-4c17-e7d1-517ad7a3f605"
      },
      "execution_count": null,
      "outputs": [
        {
          "output_type": "stream",
          "name": "stdout",
          "text": [
            "We are the so-called \"Vikings\" from the north.\n"
          ]
        }
      ]
    },
    {
      "cell_type": "markdown",
      "source": [
        "# String Methods"
      ],
      "metadata": {
        "id": "INtq8RS4BLUI"
      }
    },
    {
      "cell_type": "code",
      "source": [
        "'''\n",
        "capitalize()\tConverts the first character to upper case\n",
        "casefold()\tConverts string into lower case\n",
        "center()\tReturns a centered string\n",
        "count()\tReturns the number of times a specified value occurs in a string\n",
        "encode()\tReturns an encoded version of the string\n",
        "endswith()\tReturns true if the string ends with the specified value\n",
        "expandtabs()\tSets the tab size of the string\n",
        "find()\tSearches the string for a specified value and returns the position of where it was found\n",
        "format()\tFormats specified values in a string\n",
        "format_map()\tFormats specified values in a string\n",
        "index()\tSearches the string for a specified value and returns the position of where it was found\n",
        "isalnum()\tReturns True if all characters in the string are alphanumeric\n",
        "isalpha()\tReturns True if all characters in the string are in the alphabet\n",
        "isascii()\tReturns True if all characters in the string are ascii characters\n",
        "isdecimal()\tReturns True if all characters in the string are decimals\n",
        "isdigit()\tReturns True if all characters in the string are digits\n",
        "isidentifier()\tReturns True if the string is an identifier\n",
        "islower()\tReturns True if all characters in the string are lower case\n",
        "isnumeric()\tReturns True if all characters in the string are numeric\n",
        "isprintable()\tReturns True if all characters in the string are printable\n",
        "isspace()\tReturns True if all characters in the string are whitespaces\n",
        "istitle()\tReturns True if the string follows the rules of a title\n",
        "isupper()\tReturns True if all characters in the string are upper case\n",
        "join()\tJoins the elements of an iterable to the end of the string\n",
        "ljust()\tReturns a left justified version of the string\n",
        "lower()\tConverts a string into lower case\n",
        "lstrip()\tReturns a left trim version of the string\n",
        "maketrans()\tReturns a translation table to be used in translations\n",
        "partition()\tReturns a tuple where the string is parted into three parts\n",
        "replace()\tReturns a string where a specified value is replaced with a specified value\n",
        "rfind()\tSearches the string for a specified value and returns the last position of where it was found\n",
        "rindex()\tSearches the string for a specified value and returns the last position of where it was found\n",
        "rjust()\tReturns a right justified version of the string\n",
        "rpartition()\tReturns a tuple where the string is parted into three parts\n",
        "rsplit()\tSplits the string at the specified separator, and returns a list\n",
        "rstrip()\tReturns a right trim version of the string\n",
        "split()\tSplits the string at the specified separator, and returns a list\n",
        "splitlines()\tSplits the string at line breaks and returns a list\n",
        "startswith()\tReturns true if the string starts with the specified value\n",
        "strip()\tReturns a trimmed version of the string\n",
        "swapcase()\tSwaps cases, lower case becomes upper case and vice versa\n",
        "title()\tConverts the first character of each word to upper case\n",
        "translate()\tReturns a translated string\n",
        "upper()\tConverts a string into upper case\n",
        "zfill()\tFills the string with a specified number of 0 values at the beginning\n",
        "'''"
      ],
      "metadata": {
        "id": "xbQ6RJgaBN0p"
      },
      "execution_count": null,
      "outputs": []
    },
    {
      "cell_type": "markdown",
      "source": [
        "# Python Boolean"
      ],
      "metadata": {
        "id": "bCS6pcelFEjR"
      }
    },
    {
      "cell_type": "code",
      "source": [
        "'''\n",
        "Almost any value is evaluated to True if it has some sort of content.\n",
        "\n",
        "Any string is True, except empty strings.\n",
        "\n",
        "Any number is True, except 0.\n",
        "\n",
        "Any list, tuple, set, and dictionary are True, except empty ones.\n",
        "'''\n",
        "print(bool(3))\n",
        "print(bool('hi'))\n",
        "print(bool(['hi','hello']))\n",
        "\n",
        "print(bool(0))\n",
        "print(bool(''))\n",
        "print(bool([]))\n",
        "\n",
        "if 5>2 :\n",
        "  print(\"greater\\n\")\n",
        "else:\n",
        "  print(\"lower\\n\")"
      ],
      "metadata": {
        "colab": {
          "base_uri": "https://localhost:8080/"
        },
        "id": "2cWLps5KFHOk",
        "outputId": "8ce01372-b23c-45e9-bd56-1f5cba2f78e7"
      },
      "execution_count": null,
      "outputs": [
        {
          "output_type": "stream",
          "name": "stdout",
          "text": [
            "True\n",
            "True\n",
            "True\n",
            "False\n",
            "False\n",
            "False\n",
            "greater\n",
            "\n"
          ]
        }
      ]
    },
    {
      "cell_type": "markdown",
      "source": [
        "# Python Operators"
      ],
      "metadata": {
        "id": "yTx1Dt43G7gC"
      }
    },
    {
      "cell_type": "code",
      "source": [
        "'''\n",
        "Python Arithmetic Operators\n",
        "Arithmetic operators are used with numeric values to perform common mathematical operations:\n",
        "\n",
        "Operator\tName\tExample\tTry it\n",
        "+\tAddition\tx + y\n",
        "-\tSubtraction\tx - y\n",
        "*\tMultiplication\tx * y\n",
        "/\tDivision\tx / y\n",
        "%\tModulus\tx % y\n",
        "**\tExponentiation\tx ** y\n",
        "//\tFloor division\tx // y\n",
        "'''\n",
        "\n",
        "\n",
        "'''\n",
        "Python Assignment Operators\n",
        "Assignment operators are used to assign values to variables:\n",
        "\n",
        "Operator\tExample\tSame As\tTry it\n",
        "=\tx = 5\tx = 5\n",
        "+=\tx += 3\tx = x + 3\n",
        "-=\tx -= 3\tx = x - 3\n",
        "*=\tx *= 3\tx = x * 3\n",
        "/=\tx /= 3\tx = x / 3\n",
        "%=\tx %= 3\tx = x % 3\n",
        "//=\tx //= 3\tx = x // 3\n",
        "**=\tx **= 3\tx = x ** 3\n",
        "&=\tx &= 3\tx = x & 3\n",
        "|=\tx |= 3\tx = x | 3\n",
        "^=\tx ^= 3\tx = x ^ 3\n",
        ">>=\tx >>= 3\tx = x >> 3\n",
        "<<=\tx <<= 3\tx = x << 3\n",
        "'''\n",
        "\n",
        "\n",
        "\n",
        "\n",
        "'''\n",
        "Python Comparison Operators\n",
        "Comparison operators are used to compare two values:\n",
        "\n",
        "Operator\tName\tExample\tTry it\n",
        "==\tEqual\tx == y\n",
        "!=\tNot equal\tx != y\n",
        ">\tGreater than\tx > y\n",
        "<\tLess than\tx < y\n",
        ">=\tGreater than or equal to\tx >= y\n",
        "<=\tLess than or equal to\tx <= y\n",
        "'''\n",
        "\n",
        "\n",
        "\n",
        "'''\n",
        "Python Logical Operators\n",
        "Logical operators are used to combine conditional statements:\n",
        "\n",
        "Operator\tDescription\tExample\n",
        "and \tReturns True if both statements are true\tx < 5 and  x < 10\n",
        "or\tReturns True if one of the statements is true\tx < 5 or x < 4\n",
        "not\tReverse the result, returns False if the result is true\n",
        "'''\n",
        "\n",
        "\n",
        "\n",
        "'''\n",
        "Python Identity Operators\n",
        "Identity operators are used to compare the objects, not if they are equal, but if they are actually the same object, with the same memory location:\n",
        "\n",
        "Operator\tDescription\tExample\tTry it\n",
        "is \tReturns True if both variables are the same object\tx is y\n",
        "is not\tReturns True if both variables are not the same object\n",
        "'''\n",
        "\n",
        "\n",
        "\n",
        "\n",
        "'''\n",
        "Python Membership Operators\n",
        "Membership operators are used to test if a sequence is presented in an object:\n",
        "\n",
        "Operator\tDescription\tExample\tTry it\n",
        "in \tReturns True if a sequence with the specified value is present in the object\tx in y\n",
        "not in\tReturns True if a sequence with the specified value is not present in the object\n",
        "'''\n",
        "\n",
        "\n",
        "\n",
        "\n",
        "'''\n",
        "The precedence order is described in the table below, starting with the highest precedence at the top:\n",
        "\n",
        "Operator\tDescription\tTry it\n",
        "()\tParentheses\n",
        "**\tExponentiation\n",
        "+x  -x  ~x\tUnary plus, unary minus, and bitwise NOT\n",
        "*  /  //  %\tMultiplication, division, floor division, and modulus\n",
        "+  -\tAddition and subtraction\n",
        "<<  >>\tBitwise left and right shifts\n",
        "&\tBitwise AND\n",
        "^\tBitwise XOR\n",
        "|\tBitwise OR\n",
        "==  !=  >  >=  <  <=  is  is not  in  not in \tComparisons, identity, and membership operators\n",
        "not\tLogical NOT\n",
        "and\tAND\n",
        "or\tOR\n",
        "If two operators have the same precedence, the expression is evaluated from left to right.\n",
        "'''"
      ],
      "metadata": {
        "colab": {
          "base_uri": "https://localhost:8080/",
          "height": 122
        },
        "id": "4faLDgQOG-t9",
        "outputId": "4c14fb7d-c031-4feb-a1b9-067e75aabc4a"
      },
      "execution_count": null,
      "outputs": [
        {
          "output_type": "execute_result",
          "data": {
            "text/plain": [
              "'\\nThe precedence order is described in the table below, starting with the highest precedence at the top:\\n\\nOperator\\tDescription\\tTry it\\n()\\tParentheses\\n**\\tExponentiation\\n+x  -x  ~x\\tUnary plus, unary minus, and bitwise NOT\\n*  /  //  %\\tMultiplication, division, floor division, and modulus\\n+  -\\tAddition and subtraction\\n<<  >>\\tBitwise left and right shifts\\n&\\tBitwise AND\\n^\\tBitwise XOR\\n|\\tBitwise OR\\n==  !=  >  >=  <  <=  is  is not  in  not in \\tComparisons, identity, and membership operators\\nnot\\tLogical NOT\\nand\\tAND\\nor\\tOR\\nIf two operators have the same precedence, the expression is evaluated from left to right.\\n'"
            ],
            "application/vnd.google.colaboratory.intrinsic+json": {
              "type": "string"
            }
          },
          "metadata": {},
          "execution_count": 1
        }
      ]
    },
    {
      "cell_type": "markdown",
      "source": [
        "# Python list"
      ],
      "metadata": {
        "id": "Mx0tqhXUHy3i"
      }
    },
    {
      "cell_type": "code",
      "source": [
        "'''\n",
        "Lists are used to store multiple items in a single variable.\n",
        "\n",
        "Lists are one of 4 built-in data types in Python used to store collections of data, the other 3 are Tuple, Set, and Dictionary, all with different qualities and usage.\n",
        "\n",
        "Lists are created using square brackets:\n",
        "'''\n",
        "arr=[1,2,3]\n",
        "print(arr)\n",
        "\n",
        "\n",
        "'''\n",
        "List Items\n",
        "List items are ordered, changeable, and allow duplicate values.\n",
        "\n",
        "List items are indexed, the first item has index [0], the second item has index [1] etc.\n",
        "'''\n",
        "\n",
        "\n",
        "'''\n",
        "Ordered\n",
        "When we say that lists are ordered, it means that the items have a defined order, and that order will not change.\n",
        "\n",
        "If you add new items to a list, the new items will be placed at the end of the list.\n",
        "'''\n",
        "\n",
        "\n",
        "'''\n",
        "Changeable\n",
        "The list is changeable, meaning that we can change, add, and remove items in a list after it has been created.\n",
        "'''\n",
        "\n",
        "'''\n",
        "List Length\n",
        "To determine how many items a list has, use the len() function:\n",
        "'''\n",
        "print(len(arr))"
      ],
      "metadata": {
        "colab": {
          "base_uri": "https://localhost:8080/"
        },
        "id": "xD5lqI-_L09-",
        "outputId": "a6dfbd62-1355-437e-ac01-82869d8e96bb"
      },
      "execution_count": null,
      "outputs": [
        {
          "output_type": "stream",
          "name": "stdout",
          "text": [
            "[1, 2, 3]\n",
            "3\n"
          ]
        }
      ]
    },
    {
      "cell_type": "markdown",
      "source": [
        "Python - Access List Items"
      ],
      "metadata": {
        "id": "Up1ghNQVOeD8"
      }
    },
    {
      "cell_type": "code",
      "source": [
        "thislist = [\"apple\", \"banana\", \"cherry\"]\n",
        "print(thislist[1])\n",
        "\n",
        "\n",
        "'''\n",
        "Negative Indexing\n",
        "Negative indexing means start from the end\n",
        "\n",
        "-1 refers to the last item, -2 refers to the second last item etc.\n",
        "'''\n",
        "\n",
        "print(thislist[-1])\n",
        "\n",
        "\n",
        "'''\n",
        "Range of Indexes\n",
        "You can specify a range of indexes by specifying where to start and where to end the range.\n",
        "\n",
        "When specifying a range, the return value will be a new list with the specified items.\n",
        "'''\n",
        "print(thislist[:2])\n",
        "print(thislist[1: 2])\n",
        "print(thislist[1:])\n",
        "print(thislist[-3:-1])\n",
        "\n",
        "if 'apple' in thislist:\n",
        "  print('yes')"
      ],
      "metadata": {
        "colab": {
          "base_uri": "https://localhost:8080/"
        },
        "id": "cpK47kYyOxC1",
        "outputId": "1954e788-0930-41d3-c7ab-fb31139130ab"
      },
      "execution_count": null,
      "outputs": [
        {
          "output_type": "stream",
          "name": "stdout",
          "text": [
            "banana\n",
            "cherry\n",
            "['apple', 'banana']\n",
            "['banana']\n",
            "['banana', 'cherry']\n",
            "['apple', 'banana']\n",
            "yes\n"
          ]
        }
      ]
    },
    {
      "cell_type": "markdown",
      "source": [
        "Python - Change List Items"
      ],
      "metadata": {
        "id": "5RS1uVrkQ94X"
      }
    },
    {
      "cell_type": "code",
      "source": [
        "thislist = [\"apple\", \"banana\", \"cherry\", \"orange\", \"kiwi\", \"mango\"]\n",
        "'''\n",
        "Change Item Value\n",
        "To change the value of a specific item, refer to the index number:\n",
        "'''\n",
        "thislist[4]='sweet'\n",
        "print(thislist)\n",
        "\n",
        "\n",
        "\n",
        "'''\n",
        "Change a Range of Item Values\n",
        "To change the value of items within a specific range, define a list with the new values, and refer to the range of index numbers where you want to insert the new values:\n",
        "'''\n",
        "thislist[2:4]=['blackcurrant','watermilon']\n",
        "print(thislist)\n",
        "\n",
        "\n",
        "\n",
        "'''\n",
        "Insert Items\n",
        "To insert a new list item, without replacing any of the existing values, we can use the insert() method.\n",
        "\n",
        "The insert() method inserts an item at the specified index:\n",
        "'''\n",
        "thislist.insert(2,'banana')\n",
        "print(thislist)"
      ],
      "metadata": {
        "colab": {
          "base_uri": "https://localhost:8080/"
        },
        "id": "lPz1H6A9Q_GP",
        "outputId": "bfcb112b-6b1f-4291-9dec-2e4008714009"
      },
      "execution_count": null,
      "outputs": [
        {
          "output_type": "stream",
          "name": "stdout",
          "text": [
            "['apple', 'banana', 'cherry', 'orange', 'sweet', 'mango']\n",
            "['apple', 'banana', 'blackcurrant', 'watermilon', 'sweet', 'mango']\n",
            "['apple', 'banana', 'banana', 'blackcurrant', 'watermilon', 'sweet', 'mango']\n"
          ]
        }
      ]
    },
    {
      "cell_type": "markdown",
      "source": [
        "Python - Add List Items"
      ],
      "metadata": {
        "id": "hQo61ntnUSRC"
      }
    },
    {
      "cell_type": "code",
      "source": [
        "'''\n",
        "Append Items\n",
        "To add an item to the end of the list, use the append() method:\n",
        "'''\n",
        "\n",
        "thislist = [\"apple\", \"banana\", \"cherry\", \"orange\", \"kiwi\", \"mango\"]\n",
        "thislist.append('watermilon')\n",
        "print(thislist)\n",
        "\n",
        "'''\n",
        "Insert Items\n",
        "To insert a list item at a specified index, use the insert() method.\n",
        "\n",
        "The insert() method inserts an item at the specified index:\n",
        "'''\n",
        "thislist.insert(1,'water')\n",
        "print(thislist)\n",
        "\n",
        "\n",
        "'''\n",
        "Extend List\n",
        "To append elements from another list to the current list, use the extend() method.\n",
        "'''\n",
        "tropical = [\"mango\", \"pineapple\", \"papaya\"]\n",
        "thislist.extend(tropical)\n",
        "print(thislist)\n",
        "\n",
        "\n",
        "\n",
        "'''\n",
        "Add Any Iterable\n",
        "The extend() method does not have to append lists, you can add any iterable object (tuples, sets, dictionaries etc.).\n",
        "'''\n",
        "thistuple = (\"kiwi\", \"orange\")\n",
        "thislist.extend(tropical)\n",
        "print(thislist)"
      ],
      "metadata": {
        "colab": {
          "base_uri": "https://localhost:8080/"
        },
        "id": "SURBI2qSUTiy",
        "outputId": "bd52dc4d-2a70-4b09-bcb5-ad1f2ccc0541"
      },
      "execution_count": null,
      "outputs": [
        {
          "output_type": "stream",
          "name": "stdout",
          "text": [
            "['apple', 'banana', 'cherry', 'orange', 'kiwi', 'mango', 'watermilon']\n",
            "['apple', 'water', 'banana', 'cherry', 'orange', 'kiwi', 'mango', 'watermilon']\n",
            "['apple', 'water', 'banana', 'cherry', 'orange', 'kiwi', 'mango', 'watermilon', 'mango', 'pineapple', 'papaya']\n",
            "['apple', 'water', 'banana', 'cherry', 'orange', 'kiwi', 'mango', 'watermilon', 'mango', 'pineapple', 'papaya', 'mango', 'pineapple', 'papaya']\n"
          ]
        }
      ]
    },
    {
      "cell_type": "markdown",
      "source": [
        "Python - Remove List Items"
      ],
      "metadata": {
        "id": "8ntG02oNWemq"
      }
    },
    {
      "cell_type": "code",
      "source": [
        "'''\n",
        "Remove Specified Item\n",
        "The remove() method removes the specified item.\n",
        "'''\n",
        "tropical = [\"mango\", \"pineapple\", \"papaya\"]\n",
        "tropical.remove('mango')\n",
        "print(tropical)\n",
        "\n",
        "\n",
        "\n",
        "'''\n",
        "Remove Specified Index\n",
        "The pop() method removes the specified index.\n",
        "If you do not specify the index, the pop() method removes the last item.\n",
        "'''\n",
        "tropical.pop(1)\n",
        "print(tropical)\n",
        "tropical.pop()\n",
        "print(tropical)\n",
        "\n",
        "\n",
        "'''\n",
        "The del keyword also removes the specified index:\n",
        "The del keyword can also delete the list completely.\n",
        "'''\n",
        "\n",
        "thislist = [\"apple\", \"banana\", \"cherry\"]\n",
        "del thislist[0]\n",
        "print(thislist)\n",
        "\n",
        "thislist = [\"apple\", \"banana\", \"cherry\"]\n",
        "del thislist\n",
        "\n",
        "\n",
        "\n",
        "'''\n",
        "Clear the List\n",
        "The clear() method empties the list.\n",
        "\n",
        "The list still remains, but it has no content.\n",
        "'''\n",
        "thislist = [\"apple\", \"banana\", \"cherry\"]\n",
        "thislist.clear()\n",
        "print(thislist)"
      ],
      "metadata": {
        "colab": {
          "base_uri": "https://localhost:8080/"
        },
        "id": "uOyNlhraWgJK",
        "outputId": "0cba9b8a-f003-49c0-97d6-f88504d92a4e"
      },
      "execution_count": null,
      "outputs": [
        {
          "output_type": "stream",
          "name": "stdout",
          "text": [
            "['pineapple', 'papaya']\n",
            "['pineapple']\n",
            "[]\n",
            "['banana', 'cherry']\n",
            "[]\n"
          ]
        }
      ]
    },
    {
      "cell_type": "markdown",
      "source": [
        "Python - Loop Lists"
      ],
      "metadata": {
        "id": "GMS-KJNhYcgR"
      }
    },
    {
      "cell_type": "code",
      "source": [
        "'''\n",
        "Loop Through a List\n",
        "You can loop through the list items by using a for loop:\n",
        "'''\n",
        "thislist = [\"apple\", \"banana\", \"cherry\"]\n",
        "for x in thislist:\n",
        "  print(x)\n",
        "\n",
        "\n",
        "'''\n",
        "Loop Through the Index Numbers\n",
        "You can also loop through the list items by referring to their index number.\n",
        "\n",
        "Use the range() and len() functions to create a suitable iterable.\n",
        "'''\n",
        "for i in range(0,len(thislist)):\n",
        "  print(thislist[i])\n",
        "\n",
        "\n",
        "'''\n",
        "Using a While Loop\n",
        "You can loop through the list items by using a while loop.\n",
        "\n",
        "Use the len() function to determine the length of the list, then start at 0 and loop your way through the list items by referring to their indexes.\n",
        "\n",
        "Remember to increase the index by 1 after each iteration.\n",
        "'''\n",
        "\n",
        "i=0\n",
        "while i<len(thislist):\n",
        "  print(thislist[i])\n",
        "  i +=1"
      ],
      "metadata": {
        "colab": {
          "base_uri": "https://localhost:8080/"
        },
        "id": "jc4StB5FYd-g",
        "outputId": "e99f05f6-45e9-4d61-cde9-acd2bb6d90ad"
      },
      "execution_count": null,
      "outputs": [
        {
          "output_type": "stream",
          "name": "stdout",
          "text": [
            "apple\n",
            "banana\n",
            "cherry\n",
            "apple\n",
            "banana\n",
            "cherry\n",
            "apple\n",
            "banana\n",
            "cherry\n"
          ]
        }
      ]
    },
    {
      "cell_type": "markdown",
      "source": [
        "Python - List Comprehension"
      ],
      "metadata": {
        "id": "EQE8nrT2AOcC"
      }
    },
    {
      "cell_type": "code",
      "source": [
        "'''\n",
        "List comprehension offers a shorter syntax when you want to create a new list based on the values of an existing list.\n",
        "\n",
        "Example:\n",
        "\n",
        "Based on a list of fruits, you want a new list, containing only the fruits with the letter \"a\" in the name.\n",
        "\n",
        "Without list comprehension you will have to write a for statement with a conditional test inside:\n",
        "'''\n",
        "\n",
        "fruits = [\"apple\", \"banana\", \"cherry\", \"kiwi\", \"mango\"]\n",
        "newlist=[]\n",
        "\n",
        "for x in fruits:\n",
        "  if 'a' in x:\n",
        "    newlist.append(x)\n",
        "print(newlist)\n",
        "\n",
        "# With list comprehension you can do all that with only one line of code:\n",
        "newlist=[x for x in fruits if 'a' in x]\n",
        "print(newlist)\n",
        "\n",
        "newlist=[x.upper() for x in fruits]\n",
        "print(newlist)\n",
        "\n",
        "newlist=[x for x in range(10)]\n",
        "print(newlist)\n",
        "\n",
        "newlist=[x for x in range(10) if x<5]\n",
        "print(newlist)"
      ],
      "metadata": {
        "colab": {
          "base_uri": "https://localhost:8080/"
        },
        "id": "f08407pwAQDv",
        "outputId": "869d5194-04fe-4be4-b054-bf9915af07f5"
      },
      "execution_count": null,
      "outputs": [
        {
          "output_type": "stream",
          "name": "stdout",
          "text": [
            "['apple', 'banana', 'mango']\n",
            "['apple', 'banana', 'mango']\n",
            "['APPLE', 'BANANA', 'CHERRY', 'KIWI', 'MANGO']\n",
            "[0, 1, 2, 3, 4, 5, 6, 7, 8, 9]\n",
            "[0, 1, 2, 3, 4]\n"
          ]
        }
      ]
    },
    {
      "cell_type": "markdown",
      "source": [
        "Python - Sort Lists"
      ],
      "metadata": {
        "id": "cRqjoQBlCbTA"
      }
    },
    {
      "cell_type": "code",
      "source": [
        "fruits = [\"apple\", \"banana\", \"cherry\", \"kiwi\", \"mango\"]\n",
        "num=[8,3,1,49,333,-2,0,34,7,9]\n",
        "\n",
        "# reverse the order of the list elements..\n",
        "fruits.reverse()\n",
        "num.reverse()\n",
        "print(fruits)\n",
        "print(num)\n",
        "\n",
        "# increasing sort\n",
        "fruits.sort()\n",
        "num.sort()\n",
        "print(fruits)\n",
        "print(num)\n",
        "\n",
        "# decreasing sor\n",
        "fruits.sort(reverse=True)\n",
        "num.sort(reverse=True)\n",
        "print(fruits)\n",
        "print(num)\n"
      ],
      "metadata": {
        "colab": {
          "base_uri": "https://localhost:8080/"
        },
        "id": "HixmQHU9CdQN",
        "outputId": "6143dce5-3c0d-4d8c-93ae-448dcf41e758"
      },
      "execution_count": null,
      "outputs": [
        {
          "output_type": "stream",
          "name": "stdout",
          "text": [
            "['mango', 'kiwi', 'cherry', 'banana', 'apple']\n",
            "[9, 7, 34, 0, -2, 333, 49, 1, 3, 8]\n",
            "['apple', 'banana', 'cherry', 'kiwi', 'mango']\n",
            "[-2, 0, 1, 3, 7, 8, 9, 34, 49, 333]\n",
            "['mango', 'kiwi', 'cherry', 'banana', 'apple']\n",
            "[333, 49, 34, 9, 8, 7, 3, 1, 0, -2]\n"
          ]
        }
      ]
    },
    {
      "cell_type": "markdown",
      "source": [
        "Python - Copy Lists"
      ],
      "metadata": {
        "id": "TPkUwlznEjdR"
      }
    },
    {
      "cell_type": "code",
      "source": [
        "fruits = [\"apple\", \"banana\", \"cherry\", \"kiwi\", \"mango\"]\n",
        "newlist=[]\n",
        "newlist=fruits.copy()\n",
        "print(newlist)"
      ],
      "metadata": {
        "colab": {
          "base_uri": "https://localhost:8080/"
        },
        "id": "odL1EJRmEpce",
        "outputId": "88250b33-8ea5-4d42-c4ad-34d7c3945e02"
      },
      "execution_count": null,
      "outputs": [
        {
          "output_type": "stream",
          "name": "stdout",
          "text": [
            "['apple', 'banana', 'cherry', 'kiwi', 'mango']\n"
          ]
        }
      ]
    },
    {
      "cell_type": "markdown",
      "source": [
        "Python - Join Lists"
      ],
      "metadata": {
        "id": "Eiv2KU54Gv8r"
      }
    },
    {
      "cell_type": "code",
      "source": [
        "fruits = [\"apple\", \"banana\", \"cherry\", \"kiwi\", \"mango\"]\n",
        "num=[8,3,1,49,333,-2,0,34,7,9]\n",
        "\n",
        "# way-3\n",
        "for x in num:\n",
        "  fruits.append(x)\n",
        "print(fruits)\n",
        "\n",
        "# way-1\n",
        "fn=fruits+num\n",
        "print(fn)\n",
        "\n",
        "#way-2\n",
        "num.extend(fruits)\n",
        "print(num)\n",
        "\n"
      ],
      "metadata": {
        "colab": {
          "base_uri": "https://localhost:8080/"
        },
        "id": "ZZ0m-nDRGxJz",
        "outputId": "e5017889-3130-4e60-b7e2-fe7a34f8ceb6"
      },
      "execution_count": null,
      "outputs": [
        {
          "output_type": "stream",
          "name": "stdout",
          "text": [
            "['apple', 'banana', 'cherry', 'kiwi', 'mango', 8, 3, 1, 49, 333, -2, 0, 34, 7, 9]\n",
            "['apple', 'banana', 'cherry', 'kiwi', 'mango', 8, 3, 1, 49, 333, -2, 0, 34, 7, 9, 8, 3, 1, 49, 333, -2, 0, 34, 7, 9]\n",
            "[8, 3, 1, 49, 333, -2, 0, 34, 7, 9, 'apple', 'banana', 'cherry', 'kiwi', 'mango', 8, 3, 1, 49, 333, -2, 0, 34, 7, 9]\n"
          ]
        }
      ]
    },
    {
      "cell_type": "markdown",
      "source": [
        "Python - List Methods"
      ],
      "metadata": {
        "id": "6TrIMBWwIXHj"
      }
    },
    {
      "cell_type": "code",
      "source": [
        "'''\n",
        "List Methods\n",
        "Python has a set of built-in methods that you can use on lists.\n",
        "\n",
        "Method\tDescription\n",
        "append()\tAdds an element at the end of the list\n",
        "clear()\tRemoves all the elements from the list\n",
        "copy()\tReturns a copy of the list\n",
        "count()\tReturns the number of elements with the specified value\n",
        "extend()\tAdd the elements of a list (or any iterable), to the end of the current list\n",
        "index()\tReturns the index of the first element with the specified value\n",
        "insert()\tAdds an element at the specified position\n",
        "pop()\tRemoves the element at the specified position\n",
        "remove()\tRemoves the item with the specified value\n",
        "reverse()\tReverses the order of the list\n",
        "sort()\tSorts the list\n",
        "'''"
      ],
      "metadata": {
        "colab": {
          "base_uri": "https://localhost:8080/",
          "height": 160
        },
        "id": "YpmbhbkSIYey",
        "outputId": "a84b1e3d-fe16-44c7-b6c3-ed793b8bdf7c"
      },
      "execution_count": null,
      "outputs": [
        {
          "output_type": "execute_result",
          "data": {
            "text/plain": [
              "'\\nList Methods\\nPython has a set of built-in methods that you can use on lists.\\n\\nMethod\\tDescription\\nappend()\\tAdds an element at the end of the list\\nclear()\\tRemoves all the elements from the list\\ncopy()\\tReturns a copy of the list\\ncount()\\tReturns the number of elements with the specified value\\nextend()\\tAdd the elements of a list (or any iterable), to the end of the current list\\nindex()\\tReturns the index of the first element with the specified value\\ninsert()\\tAdds an element at the specified position\\npop()\\tRemoves the element at the specified position\\nremove()\\tRemoves the item with the specified value\\nreverse()\\tReverses the order of the list\\nsort()\\tSorts the list\\n'"
            ],
            "application/vnd.google.colaboratory.intrinsic+json": {
              "type": "string"
            }
          },
          "metadata": {},
          "execution_count": 19
        }
      ]
    },
    {
      "cell_type": "markdown",
      "source": [
        "# Python Tuples"
      ],
      "metadata": {
        "id": "Z2sCW1xKM1Zi"
      }
    },
    {
      "cell_type": "code",
      "source": [
        "'''\n",
        "Tuples are used to store multiple items in a single variable.\n",
        "A tuple is a collection which is ordered and unchangeable.\n",
        "\n",
        "Tuples are written with round brackets.\n",
        "\n",
        "Tuple items are ordered, unchangeable, and allow duplicate values.\n",
        "\n",
        "Tuple items are indexed, the first item has index [0], the second item has index [1] etc.\n",
        "\n",
        "Ordered\n",
        "When we say that tuples are ordered, it means that the items have a defined order, and that order will not change.\n",
        "\n",
        "Unchangeable\n",
        "Tuples are unchangeable, meaning that we cannot change, add or remove items after the tuple has been created.\n",
        "\n",
        "Allow Duplicates\n",
        "Since tuples are indexed, they can have items with the same value:\n",
        "'''\n",
        "\n",
        "thistuple=(\"apple\", \"banana\", \"cherry\", \"apple\", \"cherry\")\n",
        "print(thistuple)\n",
        "print(len(thistuple))\n",
        "print(type(thistuple))"
      ],
      "metadata": {
        "colab": {
          "base_uri": "https://localhost:8080/"
        },
        "id": "7cAyYFWzM2x7",
        "outputId": "d11c2407-2d2f-4dbb-9399-552cfc23a1ba"
      },
      "execution_count": null,
      "outputs": [
        {
          "output_type": "stream",
          "name": "stdout",
          "text": [
            "('apple', 'banana', 'cherry', 'apple', 'cherry')\n",
            "5\n",
            "<class 'tuple'>\n"
          ]
        }
      ]
    },
    {
      "cell_type": "markdown",
      "source": [
        "Python - Access Tuple Items"
      ],
      "metadata": {
        "id": "V3hwpVILOAt1"
      }
    },
    {
      "cell_type": "code",
      "source": [
        "thistuple=(\"apple\", \"banana\", \"cherry\", \"orange\", \"kiwi\", \"melon\", \"mango\")\n",
        "print(thistuple[2])\n",
        "print(thistuple[-1])\n",
        "print(thistuple[2:4])\n",
        "print(thistuple[:3])\n",
        "print(thistuple[2:])\n",
        "\n",
        "if 'apple' in thistuple:\n",
        "  print('yes')"
      ],
      "metadata": {
        "colab": {
          "base_uri": "https://localhost:8080/"
        },
        "id": "EKwVlbHPOCMU",
        "outputId": "d4f9162c-bb67-4626-d497-7d1b8aaef239"
      },
      "execution_count": null,
      "outputs": [
        {
          "output_type": "stream",
          "name": "stdout",
          "text": [
            "cherry\n",
            "mango\n",
            "('cherry', 'orange')\n",
            "('apple', 'banana', 'cherry')\n",
            "('cherry', 'orange', 'kiwi', 'melon', 'mango')\n",
            "yes\n"
          ]
        }
      ]
    },
    {
      "cell_type": "markdown",
      "source": [
        "Python - Update Tuples"
      ],
      "metadata": {
        "id": "_qIY4C2sPgGs"
      }
    },
    {
      "cell_type": "code",
      "source": [
        "'''\n",
        "Tuples are unchangeable, meaning that you cannot change, add, or remove items once the tuple is created.\n",
        "\n",
        "But there are some workarounds.You can convert the tuple into a list, change the list, and convert the list back into a tuple.\n",
        "'''\n",
        "\n",
        "# update value in tuple\n",
        "x=(\"apple\", \"banana\", \"cherry\")\n",
        "y=list(x)\n",
        "y[1]='orange'\n",
        "x=tuple(y)\n",
        "print(x)\n",
        "\n",
        "# append a value in tuple\n",
        "y=list(x)\n",
        "y.append('banana')\n",
        "x=tuple(y)\n",
        "print(x)\n",
        "\n",
        "# add two tuple\n",
        "y=(1,3,4)\n",
        "z=x+y\n",
        "print(z)\n",
        "\n",
        "# remove an item from a tuple\n",
        "y=list(x)\n",
        "y.remove('orange')\n",
        "x=tuple(y)\n",
        "print(x)\n",
        "\n",
        "# del whole tuple\n",
        "\n",
        "# del x\n",
        "# print(x)"
      ],
      "metadata": {
        "colab": {
          "base_uri": "https://localhost:8080/"
        },
        "id": "JwD0apdtPheq",
        "outputId": "7b4699ec-24e6-41e9-f5e1-c5b0ba6db498"
      },
      "execution_count": null,
      "outputs": [
        {
          "output_type": "stream",
          "name": "stdout",
          "text": [
            "('apple', 'orange', 'cherry')\n",
            "('apple', 'orange', 'cherry', 'banana')\n",
            "('apple', 'orange', 'cherry', 'banana', 1, 3, 4)\n",
            "('apple', 'cherry', 'banana')\n"
          ]
        }
      ]
    },
    {
      "cell_type": "markdown",
      "source": [
        "Python - Loop Tuples"
      ],
      "metadata": {
        "id": "mM4E6yJoSVwq"
      }
    },
    {
      "cell_type": "code",
      "source": [
        "x=(\"apple\", \"banana\", \"cherry\")\n",
        "for i in x:\n",
        "  print(i)\n",
        "\n",
        "# using index\n",
        "print('using index')\n",
        "for i in range(len(x)):\n",
        "  print(x[i])\n",
        "\n",
        "# using while loop\n",
        "print('using while loop')\n",
        "i=0\n",
        "while i<len(x):\n",
        "  print(x[i])\n",
        "  i +=1"
      ],
      "metadata": {
        "colab": {
          "base_uri": "https://localhost:8080/"
        },
        "id": "_fpTjo1OSXXq",
        "outputId": "f43d46da-4edb-4d9a-9580-06549b14978f"
      },
      "execution_count": null,
      "outputs": [
        {
          "output_type": "stream",
          "name": "stdout",
          "text": [
            "apple\n",
            "banana\n",
            "cherry\n",
            "using index\n",
            "apple\n",
            "banana\n",
            "cherry\n",
            "using while loop\n",
            "apple\n",
            "banana\n",
            "cherry\n"
          ]
        }
      ]
    },
    {
      "cell_type": "markdown",
      "source": [
        "Python - Join Tuples"
      ],
      "metadata": {
        "id": "uE9bA3HyTfea"
      }
    },
    {
      "cell_type": "code",
      "source": [
        "x=(\"apple\", \"banana\", \"cherry\")\n",
        "y=(1,2,3)\n",
        "print(x+y)\n",
        "\n",
        "# If you want to multiply the content of a tuple a given number of times, you can use the * operator:\n",
        "fruits = (\"apple\", \"banana\", \"cherry\")\n",
        "mytuple = fruits * 2\n",
        "\n",
        "print(mytuple)"
      ],
      "metadata": {
        "colab": {
          "base_uri": "https://localhost:8080/"
        },
        "id": "deAn8_A8ThAj",
        "outputId": "89dbb428-6dca-40d2-ef93-ea671edc97e0"
      },
      "execution_count": null,
      "outputs": [
        {
          "output_type": "stream",
          "name": "stdout",
          "text": [
            "('apple', 'banana', 'cherry', 1, 2, 3)\n",
            "('apple', 'banana', 'cherry', 'apple', 'banana', 'cherry')\n"
          ]
        }
      ]
    },
    {
      "cell_type": "markdown",
      "source": [
        "\n",
        "Python - Tuple Methods"
      ],
      "metadata": {
        "id": "4hPK-X_xVLAQ"
      }
    },
    {
      "cell_type": "code",
      "source": [
        "'''\n",
        "Tuple Methods\n",
        "Python has two built-in methods that you can use on tuples.\n",
        "\n",
        "Method\tDescription\n",
        "count()\tReturns the number of times a specified value occurs in a tuple\n",
        "index()\tSearches the tuple for a specified value and returns the position of where it was found\n",
        "'''"
      ],
      "metadata": {
        "id": "KbDbOMEQVJAy"
      },
      "execution_count": null,
      "outputs": []
    },
    {
      "cell_type": "code",
      "execution_count": null,
      "metadata": {
        "id": "cX55GiFrgGms",
        "colab": {
          "base_uri": "https://localhost:8080/"
        },
        "outputId": "7aa889c4-38e8-4d98-9af5-efeb14f5666d"
      },
      "outputs": [
        {
          "output_type": "stream",
          "name": "stdout",
          "text": [
            "3\n",
            "3\n",
            "3.0\n",
            "<class 'str'>\n",
            "<class 'int'>\n",
            "<class 'float'>\n",
            "Abdullah Al Mamun\n",
            "Nazmul Haque\n"
          ]
        }
      ],
      "source": [
        "x=str(3)\n",
        "y=int(3)\n",
        "z=float(3)\n",
        "print(x)\n",
        "print(y)\n",
        "print(z)\n",
        "\n",
        "print(type(x))\n",
        "print(type(y))\n",
        "print(type(z))\n",
        "\n",
        "\n",
        "x=\"Abdullah Al Mamun\"\n",
        "y='Nazmul Haque'\n",
        "print(x)\n",
        "print(y)"
      ]
    },
    {
      "cell_type": "code",
      "source": [
        "# Mutiple value in Multiple variable\n",
        "\n",
        "x,y,z='apple','bannana','orange'\n",
        "print(x)\n",
        "print(y)\n",
        "print(z)\n",
        "\n",
        "fruits=['apple','bannana','orange']\n",
        "x,y,z=fruits\n",
        "print(x)\n",
        "print(y)\n",
        "print(z)"
      ],
      "metadata": {
        "colab": {
          "base_uri": "https://localhost:8080/"
        },
        "id": "rGY5U8pnGwpp",
        "outputId": "073fccc6-875b-40c6-c2b1-b30944ab7e9d"
      },
      "execution_count": null,
      "outputs": [
        {
          "output_type": "stream",
          "name": "stdout",
          "text": [
            "apple\n",
            "bannana\n",
            "orange\n",
            "apple\n",
            "bannana\n",
            "orange\n"
          ]
        }
      ]
    },
    {
      "cell_type": "markdown",
      "source": [
        "Python Type Casting"
      ],
      "metadata": {
        "id": "b3JwnyoJH0Et"
      }
    },
    {
      "cell_type": "code",
      "source": [
        "x=int(2.0)\n",
        "y=int('2')\n",
        "print(x)\n",
        "print(y)\n",
        "\n",
        "x=float(2)\n",
        "y=float('3')\n",
        "print(x)\n",
        "print(y)\n",
        "\n",
        "x=str(2)\n",
        "y=str(3.5)\n",
        "print(type(x))\n",
        "print(type(y))\n"
      ],
      "metadata": {
        "colab": {
          "base_uri": "https://localhost:8080/"
        },
        "id": "f5Ir8dhTH4N7",
        "outputId": "6ab0f0e3-d2fc-4cb8-87d5-a8cc350b5b1d"
      },
      "execution_count": null,
      "outputs": [
        {
          "output_type": "stream",
          "name": "stdout",
          "text": [
            "2\n",
            "2\n",
            "2.0\n",
            "3.0\n",
            "<class 'str'>\n",
            "<class 'str'>\n"
          ]
        }
      ]
    },
    {
      "cell_type": "markdown",
      "source": [
        "# Python Sets"
      ],
      "metadata": {
        "id": "r6tEaHtiWnIM"
      }
    },
    {
      "cell_type": "markdown",
      "source": [
        "set basics"
      ],
      "metadata": {
        "id": "R8w_4iuEWw1S"
      }
    },
    {
      "cell_type": "code",
      "source": [
        "'''\n",
        "Sets are used to store multiple items in a single variable.\n",
        "A set is a collection which is unordered, unchangeable*, and unindexed.\n",
        "Sets are written with curly brackets.\n",
        "'''\n",
        "thisset={\"apple\", \"banana\", \"cherry\"}\n",
        "print(thisset)\n",
        "print(len(thisset))\n",
        "\n",
        "'''\n",
        "Set Items\n",
        "Set items are unordered, unchangeable, and do not allow duplicate values.\n",
        "\n",
        "Unordered\n",
        "Unordered means that the items in a set do not have a defined order.\n",
        "\n",
        "Set items can appear in a different order every time you use them, and cannot be referred to by index or key.\n",
        "\n",
        "Unchangeable\n",
        "Set items are unchangeable, meaning that we cannot change the items after the set has been created.\n",
        "\n",
        "Once a set is created, you cannot change its items, but you can remove items and add new items.\n",
        "'''"
      ],
      "metadata": {
        "colab": {
          "base_uri": "https://localhost:8080/",
          "height": 160
        },
        "id": "j3lMcl9rWpjG",
        "outputId": "0b826717-0d2d-4694-d820-f34a58f6fa9a"
      },
      "execution_count": null,
      "outputs": [
        {
          "output_type": "stream",
          "name": "stdout",
          "text": [
            "{'banana', 'apple', 'cherry'}\n",
            "3\n"
          ]
        },
        {
          "output_type": "execute_result",
          "data": {
            "text/plain": [
              "'\\nSet Items\\nSet items are unordered, unchangeable, and do not allow duplicate values.\\n\\nUnordered\\nUnordered means that the items in a set do not have a defined order.\\n\\nSet items can appear in a different order every time you use them, and cannot be referred to by index or key.\\n\\nUnchangeable\\nSet items are unchangeable, meaning that we cannot change the items after the set has been created.\\n\\nOnce a set is created, you cannot change its items, but you can remove items and add new items.\\n'"
            ],
            "application/vnd.google.colaboratory.intrinsic+json": {
              "type": "string"
            }
          },
          "metadata": {},
          "execution_count": 39
        }
      ]
    },
    {
      "cell_type": "markdown",
      "source": [
        "Python - Access Set Items"
      ],
      "metadata": {
        "id": "jDOSQRK4Y-9k"
      }
    },
    {
      "cell_type": "code",
      "source": [
        "'''\n",
        "Access Items\n",
        "You cannot access items in a set by referring to an index or a key.\n",
        "\n",
        "But you can loop through the set items using a for loop, or ask if a specified value is present in a set, by using the in keyword.\n",
        "\n",
        "Example\n",
        "'''\n",
        "thisset={\"apple\", \"banana\", \"cherry\"}\n",
        "for x in thisset:\n",
        "  print(x)\n",
        "\n"
      ],
      "metadata": {
        "colab": {
          "base_uri": "https://localhost:8080/"
        },
        "id": "_Pz-fUYiY_lb",
        "outputId": "9cb15f56-9c85-4d91-a18d-29d98df41376"
      },
      "execution_count": null,
      "outputs": [
        {
          "output_type": "stream",
          "name": "stdout",
          "text": [
            "banana\n",
            "apple\n",
            "cherry\n"
          ]
        }
      ]
    },
    {
      "cell_type": "markdown",
      "source": [
        "Python - Add Set Items"
      ],
      "metadata": {
        "id": "BhzzHkvHZ8It"
      }
    },
    {
      "cell_type": "code",
      "source": [
        "'''\n",
        "Once a set is created, you cannot change its items, but you can add new items.\n",
        "\n",
        "To add one item to a set use the add() method.\n",
        "'''\n",
        "thisset={\"apple\", \"banana\", \"cherry\"}\n",
        "thisset.add('orange')\n",
        "print(thisset)\n",
        "\n",
        "# To add items from another set into the current set, use the update() method.\n",
        "thisset = {\"apple\", \"banana\", \"cherry\"}\n",
        "tropical = {\"pineapple\", \"mango\", \"papaya\"}\n",
        "thisset.update(tropical)\n",
        "print(thisset)\n",
        "\n",
        "# The object in the update() method does not have to be a set, it can be any iterable object (tuples, lists, dictionaries etc.).\n",
        "thisset = {\"apple\", \"banana\", \"cherry\"}\n",
        "mylist = [\"kiwi\", \"orange\"]\n",
        "\n",
        "thisset.update(mylist)\n",
        "\n",
        "print(thisset)"
      ],
      "metadata": {
        "colab": {
          "base_uri": "https://localhost:8080/"
        },
        "id": "w_oV8uReZ9OT",
        "outputId": "8ce8557d-03d7-4c84-d0bc-d77531d04eb1"
      },
      "execution_count": null,
      "outputs": [
        {
          "output_type": "stream",
          "name": "stdout",
          "text": [
            "{'banana', 'orange', 'apple', 'cherry'}\n",
            "{'banana', 'pineapple', 'mango', 'papaya', 'apple', 'cherry'}\n",
            "{'banana', 'orange', 'cherry', 'kiwi', 'apple'}\n"
          ]
        }
      ]
    },
    {
      "cell_type": "markdown",
      "source": [
        "Python - Remove Set Items"
      ],
      "metadata": {
        "id": "OHCxEQaUbfNu"
      }
    },
    {
      "cell_type": "code",
      "source": [
        "# To remove an item in a set, use the remove(), or the discard() method.\n",
        "thisset = {\"apple\", \"banana\", \"cherry\"}\n",
        "\n",
        "thisset.remove(\"banana\")\n",
        "\n",
        "print(thisset)\n",
        "\n",
        "# Note: If the item to remove does not exist, remove() will raise an error.\n",
        "\n",
        "\n",
        "# Remove \"banana\" by using the discard() method:\n",
        "thisset = {\"apple\", \"banana\", \"cherry\"}\n",
        "\n",
        "thisset.discard(\"banana\")\n",
        "\n",
        "print(thisset)\n",
        "\n",
        "# Note: If the item to remove does not exist, discard() will NOT raise an error.\n",
        "\n",
        "'''\n",
        "You can also use the pop() method to remove an item, but this method will remove a random item, so you cannot be sure what item that gets removed.\n",
        "\n",
        "The return value of the pop() method is the removed item.\n",
        "'''\n",
        "# Note: Sets are unordered, so when using the pop() method, you do not know which item that gets removed.\n",
        "\n",
        "# The clear() method empties the set:\n",
        "thisset = {\"apple\", \"banana\", \"cherry\"}\n",
        "\n",
        "thisset.clear()\n",
        "\n",
        "print(thisset)\n",
        "\n",
        "\n",
        "# The del keyword will delete the set completely:\n",
        "\n",
        "thisset = {\"apple\", \"banana\", \"cherry\"}\n",
        "\n",
        "#del thisset\n",
        "\n",
        "print(thisset)"
      ],
      "metadata": {
        "colab": {
          "base_uri": "https://localhost:8080/"
        },
        "id": "nUWls8G7bfxX",
        "outputId": "f4a9696d-72be-4913-8728-28f8adf1bb92"
      },
      "execution_count": null,
      "outputs": [
        {
          "output_type": "stream",
          "name": "stdout",
          "text": [
            "{'apple', 'cherry'}\n",
            "{'apple', 'cherry'}\n",
            "set()\n",
            "{'banana', 'apple', 'cherry'}\n"
          ]
        }
      ]
    },
    {
      "cell_type": "markdown",
      "source": [
        "Python - Loop Sets"
      ],
      "metadata": {
        "id": "gyfpFaMLq1Tf"
      }
    },
    {
      "cell_type": "code",
      "source": [
        "thisset = {\"apple\", \"banana\", \"cherry\"}\n",
        "for x in thisset:\n",
        "  print(x)"
      ],
      "metadata": {
        "colab": {
          "base_uri": "https://localhost:8080/"
        },
        "id": "YxmiUWwQq2q_",
        "outputId": "ffbc8ac7-4dd1-4823-a66b-f73dea52e838"
      },
      "execution_count": null,
      "outputs": [
        {
          "output_type": "stream",
          "name": "stdout",
          "text": [
            "banana\n",
            "cherry\n",
            "apple\n"
          ]
        }
      ]
    },
    {
      "cell_type": "markdown",
      "source": [
        "Python - Join Sets"
      ],
      "metadata": {
        "id": "50_1ianQrqeg"
      }
    },
    {
      "cell_type": "code",
      "source": [
        "'''\n",
        "There are several ways to join two or more sets in Python.\n",
        "\n",
        "You can use the union() method that returns a new set containing all items from both sets, or the update() method that inserts all the items from one set into another:\n",
        "'''\n",
        "s1={'a','b','c'}\n",
        "s2={'a',1,2,3}\n",
        "\n",
        "# The intersection_update() method will keep only the items that are present in both sets.\n",
        "s1.intersection_update(s2)\n",
        "print(s1)\n",
        "\n",
        "# The intersection_update() method will keep only the items that are present in both sets.\n",
        "s3=s1.intersection(s2)\n",
        "print(s3)\n",
        "\n",
        "# The symmetric_difference() method will return a new set, that contains only the elements that are NOT present in both sets.\n",
        "s1.symmetric_difference_update(s2)\n",
        "print(s1)\n",
        "\n",
        "# The symmetric_difference() method will return a new set, that contains only the elements that are NOT present in both sets.\n",
        "s3=s1.symmetric_difference(s2)\n",
        "print(s3)\n",
        "\n",
        "\n",
        "s1={'a','b','c'}\n",
        "s2={'a',1,2,3}\n",
        "s3=s1.union(s2)\n",
        "print(s3)\n",
        "\n",
        "# using update\n",
        "s1.update(s2)\n",
        "print(s1)\n",
        "\n",
        "# *** Note: Both union() and update() will exclude any duplicate items.\n",
        "\n",
        "\n"
      ],
      "metadata": {
        "colab": {
          "base_uri": "https://localhost:8080/"
        },
        "id": "3VnwxmlirreI",
        "outputId": "f472bfda-fb3d-4f3a-9295-e6bbe57129d2"
      },
      "execution_count": null,
      "outputs": [
        {
          "output_type": "stream",
          "name": "stdout",
          "text": [
            "{'a'}\n",
            "{'a'}\n",
            "{1, 2, 3}\n",
            "{'a'}\n",
            "{1, 2, 3, 'c', 'b', 'a'}\n",
            "{1, 2, 3, 'c', 'b', 'a'}\n"
          ]
        }
      ]
    },
    {
      "cell_type": "markdown",
      "source": [
        "Python - Set Methods"
      ],
      "metadata": {
        "id": "3JbKgTxEt-W6"
      }
    },
    {
      "cell_type": "code",
      "source": [
        "'''\n",
        "Set Methods\n",
        "Python has a set of built-in methods that you can use on sets.\n",
        "\n",
        "Method\tDescription\n",
        "add()\tAdds an element to the set\n",
        "clear()\tRemoves all the elements from the set\n",
        "copy()\tReturns a copy of the set\n",
        "difference()\tReturns a set containing the difference between two or more sets\n",
        "difference_update()\tRemoves the items in this set that are also included in another, specified set\n",
        "discard()\tRemove the specified item\n",
        "intersection()\tReturns a set, that is the intersection of two other sets\n",
        "intersection_update()\tRemoves the items in this set that are not present in other, specified set(s)\n",
        "isdisjoint()\tReturns whether two sets have a intersection or not\n",
        "issubset()\tReturns whether another set contains this set or not\n",
        "issuperset()\tReturns whether this set contains another set or not\n",
        "pop()\tRemoves an element from the set\n",
        "remove()\tRemoves the specified element\n",
        "symmetric_difference()\tReturns a set with the symmetric differences of two sets\n",
        "symmetric_difference_update()\tinserts the symmetric differences from this set and another\n",
        "union()\tReturn a set containing the union of sets\n",
        "update()\tUpdate the set with the union of this set and others\n",
        "'''"
      ],
      "metadata": {
        "id": "IiaVgGXbt-97"
      },
      "execution_count": null,
      "outputs": []
    },
    {
      "cell_type": "markdown",
      "source": [
        "# Python Dictionaries"
      ],
      "metadata": {
        "id": "qLnt3pLbFOy4"
      }
    },
    {
      "cell_type": "code",
      "source": [
        "'''\n",
        "Dictionaries are used to store data values in key:value pairs.\n",
        "\n",
        "A dictionary is a collection which is ordered*, changeable and do not allow duplicates.\n",
        "Dictionaries are written with curly brackets, and have keys and values:\n",
        "'''\n",
        "thisdirect={\n",
        "    \"name\":'nazmul',\n",
        "    \"roll\": 1803109,\n",
        "    \"year\": 2001\n",
        "}\n",
        "print(thisdirect)\n",
        "print(thisdirect[\"name\"])\n",
        "\n",
        "# Dictionaries cannot have two items with the same key:\n",
        "thisdirect={\n",
        "    \"name\":'nazmul',\n",
        "    \"roll\": 1803109,\n",
        "    \"year\": 2001,\n",
        "    \"year\":2004\n",
        "}\n",
        "print(thisdirect)\n",
        "print(len(thisdirect))"
      ],
      "metadata": {
        "colab": {
          "base_uri": "https://localhost:8080/"
        },
        "id": "m9z7WkWvFQMS",
        "outputId": "74d24134-05a2-4b88-ebbe-5c6390d5ed19"
      },
      "execution_count": null,
      "outputs": [
        {
          "output_type": "stream",
          "name": "stdout",
          "text": [
            "{'name': 'nazmul', 'roll': 1803109, 'year': 2001}\n",
            "nazmul\n",
            "{'name': 'nazmul', 'roll': 1803109, 'year': 2004}\n",
            "3\n"
          ]
        }
      ]
    },
    {
      "cell_type": "markdown",
      "source": [
        "Python - Access Dictionary Items"
      ],
      "metadata": {
        "id": "GlXa4l6HJTkH"
      }
    },
    {
      "cell_type": "code",
      "source": [
        "thisdirect={\n",
        "    \"name\":'nazmul',\n",
        "    \"roll\": 1803109,\n",
        "    \"year\": 2001\n",
        "}\n",
        "\n",
        "x=thisdirect.get(\"name\")\n",
        "print(x)\n",
        "\n",
        "x=thisdirect.keys()\n",
        "print(x)\n",
        "\n",
        "thisdirect[\"color\"]='white'\n",
        "\n",
        "# The keys() method will return a list of all the keys in the dictionary.\n",
        "x=thisdirect.keys()\n",
        "print(x)\n",
        "\n",
        "# The values() method will return a list of all the values in the dictionary.\n",
        "x=thisdirect.values()\n",
        "print(x)\n",
        "\n",
        "# The items() method will return each item in a dictionary, as tuples in a list.\n",
        "x=thisdirect.items()\n",
        "print(x)"
      ],
      "metadata": {
        "colab": {
          "base_uri": "https://localhost:8080/"
        },
        "id": "TOX44ApTJUlO",
        "outputId": "c6bb2131-8491-49f8-e28f-7b45406eb652"
      },
      "execution_count": null,
      "outputs": [
        {
          "output_type": "stream",
          "name": "stdout",
          "text": [
            "nazmul\n",
            "dict_keys(['name', 'roll', 'year'])\n",
            "dict_keys(['name', 'roll', 'year', 'color'])\n",
            "dict_values(['nazmul', 1803109, 2001, 'white'])\n",
            "dict_items([('name', 'nazmul'), ('roll', 1803109), ('year', 2001), ('color', 'white')])\n"
          ]
        }
      ]
    },
    {
      "cell_type": "markdown",
      "source": [
        "Python - Change Dictionary Items"
      ],
      "metadata": {
        "id": "JuCln3i2XBd0"
      }
    },
    {
      "cell_type": "code",
      "source": [
        "thisdict = {\n",
        "  \"brand\": \"Ford\",\n",
        "  \"model\": \"Mustang\",\n",
        "  \"year\": 1964\n",
        "}\n",
        "thisdict[\"year\"] = 2018\n",
        "print(thisdict)\n",
        "\n",
        "thisdict = {\n",
        "  \"brand\": \"Ford\",\n",
        "  \"model\": \"Mustang\",\n",
        "  \"year\": 1964\n",
        "}\n",
        "thisdict.update({\"year\": 2020})\n",
        "print(thisdict)"
      ],
      "metadata": {
        "colab": {
          "base_uri": "https://localhost:8080/"
        },
        "id": "g4z5h37CXDRZ",
        "outputId": "c2fcc07f-4ea8-474a-e4b9-9240eddfb31c"
      },
      "execution_count": null,
      "outputs": [
        {
          "output_type": "stream",
          "name": "stdout",
          "text": [
            "{'brand': 'Ford', 'model': 'Mustang', 'year': 2018}\n",
            "{'brand': 'Ford', 'model': 'Mustang', 'year': 2020}\n"
          ]
        }
      ]
    },
    {
      "cell_type": "markdown",
      "source": [
        "Python - Add Dictionary Items"
      ],
      "metadata": {
        "id": "zKwGlbARYCOh"
      }
    },
    {
      "cell_type": "code",
      "source": [
        "thisdict = {\n",
        "  \"brand\": \"Ford\",\n",
        "  \"model\": \"Mustang\",\n",
        "  \"year\": 1964\n",
        "}\n",
        "thisdict[\"color\"]='red'\n",
        "print(thisdict)\n",
        "\n",
        "# Add a color item to the dictionary by using the update() method:\n",
        "\n",
        "thisdict = {\n",
        "  \"brand\": \"Ford\",\n",
        "  \"model\": \"Mustang\",\n",
        "  \"year\": 1964\n",
        "}\n",
        "thisdict.update({\"color\": \"red\"})\n",
        "print(thisdict)"
      ],
      "metadata": {
        "colab": {
          "base_uri": "https://localhost:8080/"
        },
        "id": "aR5rTm1fYCp5",
        "outputId": "6cdcbf8c-1aef-425e-9b10-66a933ba88cb"
      },
      "execution_count": null,
      "outputs": [
        {
          "output_type": "stream",
          "name": "stdout",
          "text": [
            "{'brand': 'Ford', 'model': 'Mustang', 'year': 1964, 'color': 'red'}\n",
            "{'brand': 'Ford', 'model': 'Mustang', 'year': 1964, 'color': 'red'}\n"
          ]
        }
      ]
    },
    {
      "cell_type": "markdown",
      "source": [
        "Python - Remove Dictionary Items"
      ],
      "metadata": {
        "id": "kHiGq7euZURq"
      }
    },
    {
      "cell_type": "code",
      "source": [
        "# The pop() method removes the item with the specified key name:\n",
        "thisdirect={\n",
        "    \"name\":'nazmul',\n",
        "    \"roll\": 1803109,\n",
        "    \"year\": 2001\n",
        "}\n",
        "\n",
        "thisdirect.pop(\"year\")\n",
        "print(thisdirect)\n",
        "\n",
        "# The popitem() method removes the last inserted item (in versions before 3.7, a random item is removed instead):\n",
        "thisdirect.popitem()\n",
        "print(thisdirect)\n",
        "\n",
        "# The del keyword removes the item with the specified key name:\n",
        "del thisdirect[\"name\"]\n",
        "print(thisdirect)\n",
        "\n",
        "\n",
        "# The clear() method empties the dictionary:\n",
        "thisdirect={\n",
        "    \"name\":'nazmul',\n",
        "    \"roll\": 1803109,\n",
        "    \"year\": 2001\n",
        "}\n",
        "thisdirect.clear()\n",
        "print(thisdirect)"
      ],
      "metadata": {
        "colab": {
          "base_uri": "https://localhost:8080/"
        },
        "id": "3fq_HLQ9ZVDX",
        "outputId": "85dd0924-6e97-4bd4-f95c-3b3823df0849"
      },
      "execution_count": null,
      "outputs": [
        {
          "output_type": "stream",
          "name": "stdout",
          "text": [
            "{'name': 'nazmul', 'roll': 1803109}\n",
            "{'name': 'nazmul'}\n",
            "{}\n",
            "{}\n"
          ]
        }
      ]
    },
    {
      "cell_type": "markdown",
      "source": [
        "Python - Loop Dictionaries"
      ],
      "metadata": {
        "id": "qWcPU2pqbICy"
      }
    },
    {
      "cell_type": "code",
      "source": [
        "thisdirect={\n",
        "    \"name\":'nazmul',\n",
        "    \"roll\": 1803109,\n",
        "    \"year\": 2001\n",
        "}\n",
        "\n",
        "# Print all key names in the dictionary, one by one:\n",
        "for x in thisdirect:\n",
        "  print(x)\n",
        "\n",
        "\n",
        "# Print all values in the dictionary, one by one:\n",
        "for x in thisdirect:\n",
        "  print(thisdirect[x])\n",
        "\n",
        "# You can also use the values() method to return values of a dictionary:\n",
        "for x in thisdirect.values():\n",
        "  print(x)\n",
        "\n",
        "\n",
        "# You can use the keys() method to return the keys of a dictionary:\n",
        "for x in thisdirect.keys():\n",
        "  print(x)\n",
        "\n",
        "\n",
        "# Loop through both keys and values, by using the items() method:\n",
        "for x,y in thisdirect.items():\n",
        "  print(x,y)\n"
      ],
      "metadata": {
        "colab": {
          "base_uri": "https://localhost:8080/"
        },
        "id": "lWYnp8mvbInq",
        "outputId": "353e94df-ed13-4e92-94ec-26a02a2e0b2e"
      },
      "execution_count": null,
      "outputs": [
        {
          "output_type": "stream",
          "name": "stdout",
          "text": [
            "name\n",
            "roll\n",
            "year\n",
            "nazmul\n",
            "1803109\n",
            "2001\n",
            "nazmul\n",
            "1803109\n",
            "2001\n",
            "name\n",
            "roll\n",
            "year\n",
            "name nazmul\n",
            "roll 1803109\n",
            "year 2001\n"
          ]
        }
      ]
    },
    {
      "cell_type": "markdown",
      "source": [
        "Python - Copy Dictionaries"
      ],
      "metadata": {
        "id": "HK-9Bo96cwGJ"
      }
    },
    {
      "cell_type": "code",
      "source": [
        "# There are ways to make a copy, one way is to use the built-in Dictionary method copy().\n",
        "thisdirect={\n",
        "    \"name\":'nazmul',\n",
        "    \"roll\": 1803109,\n",
        "    \"year\": 2001\n",
        "}\n",
        "mydirec=thisdirect.copy()\n",
        "print(mydirec)"
      ],
      "metadata": {
        "colab": {
          "base_uri": "https://localhost:8080/"
        },
        "id": "BRRHZJ1Gcw41",
        "outputId": "6d4bb31e-47a0-4d7d-bf9e-eb9bb87ae334"
      },
      "execution_count": null,
      "outputs": [
        {
          "output_type": "stream",
          "name": "stdout",
          "text": [
            "{'name': 'nazmul', 'roll': 1803109, 'year': 2001}\n"
          ]
        }
      ]
    },
    {
      "cell_type": "markdown",
      "source": [
        "Python - Nested Dictionaries"
      ],
      "metadata": {
        "id": "r2snRxPHec4m"
      }
    },
    {
      "cell_type": "code",
      "source": [
        "# A dictionary can contain dictionaries, this is called nested dictionaries.\n",
        "myfamily = {\n",
        "  \"child1\" : {\n",
        "    \"name\" : \"Emil\",\n",
        "    \"year\" : 2004\n",
        "  },\n",
        "  \"child2\" : {\n",
        "    \"name\" : \"Tobias\",\n",
        "    \"year\" : 2007\n",
        "  },\n",
        "  \"child3\" : {\n",
        "    \"name\" : \"Linus\",\n",
        "    \"year\" : 2011\n",
        "  }\n",
        "}\n",
        "print(myfamily)\n",
        "print(myfamily[\"child1\"])\n",
        "print(myfamily[\"child1\"][\"name\"])"
      ],
      "metadata": {
        "colab": {
          "base_uri": "https://localhost:8080/"
        },
        "id": "BM9PzSfieYWd",
        "outputId": "cca4a69f-2916-4eaa-c0dd-303bf60b05f8"
      },
      "execution_count": null,
      "outputs": [
        {
          "output_type": "stream",
          "name": "stdout",
          "text": [
            "{'child1': {'name': 'Emil', 'year': 2004}, 'child2': {'name': 'Tobias', 'year': 2007}, 'child3': {'name': 'Linus', 'year': 2011}}\n",
            "{'name': 'Emil', 'year': 2004}\n",
            "Emil\n"
          ]
        }
      ]
    },
    {
      "cell_type": "markdown",
      "source": [
        "Python Dictionary Methods"
      ],
      "metadata": {
        "id": "SxAsdcPXfSp5"
      }
    },
    {
      "cell_type": "code",
      "source": [
        "'''\n",
        "Dictionary Methods\n",
        "Python has a set of built-in methods that you can use on dictionaries.\n",
        "\n",
        "Method\tDescription\n",
        "clear()\tRemoves all the elements from the dictionary\n",
        "copy()\tReturns a copy of the dictionary\n",
        "fromkeys()\tReturns a dictionary with the specified keys and value\n",
        "get()\tReturns the value of the specified key\n",
        "items()\tReturns a list containing a tuple for each key value pair\n",
        "keys()\tReturns a list containing the dictionary's keys\n",
        "pop()\tRemoves the element with the specified key\n",
        "popitem()\tRemoves the last inserted key-value pair\n",
        "setdefault()\tReturns the value of the specified key. If the key does not exist: insert the key, with the specified value\n",
        "update()\tUpdates the dictionary with the specified key-value pairs\n",
        "values()\tReturns a list of all the values in the dictionary\n",
        "'''"
      ],
      "metadata": {
        "colab": {
          "base_uri": "https://localhost:8080/",
          "height": 105
        },
        "id": "ZGLNurg-fTZj",
        "outputId": "074f5aad-8327-4b9c-a6ca-a1dc5567becf"
      },
      "execution_count": null,
      "outputs": [
        {
          "output_type": "execute_result",
          "data": {
            "text/plain": [
              "\"\\nDictionary Methods\\nPython has a set of built-in methods that you can use on dictionaries.\\n\\nMethod\\tDescription\\nclear()\\tRemoves all the elements from the dictionary\\ncopy()\\tReturns a copy of the dictionary\\nfromkeys()\\tReturns a dictionary with the specified keys and value\\nget()\\tReturns the value of the specified key\\nitems()\\tReturns a list containing a tuple for each key value pair\\nkeys()\\tReturns a list containing the dictionary's keys\\npop()\\tRemoves the element with the specified key\\npopitem()\\tRemoves the last inserted key-value pair\\nsetdefault()\\tReturns the value of the specified key. If the key does not exist: insert the key, with the specified value\\nupdate()\\tUpdates the dictionary with the specified key-value pairs\\nvalues()\\tReturns a list of all the values in the dictionary\\n\""
            ],
            "application/vnd.google.colaboratory.intrinsic+json": {
              "type": "string"
            }
          },
          "metadata": {},
          "execution_count": 45
        }
      ]
    },
    {
      "cell_type": "markdown",
      "source": [
        "# Python If ... Else"
      ],
      "metadata": {
        "id": "zcvlWpSrkJx1"
      }
    },
    {
      "cell_type": "code",
      "source": [
        "# The elif keyword is Python's way of saying \"if the previous conditions were not true, then try this condition\".\n",
        "a = 33\n",
        "b = 33\n",
        "if b > a:\n",
        "  print(\"b is greater than a\")\n",
        "elif a == b:\n",
        "  print(\"a and b are equal\")\n",
        "\n",
        "# The else keyword catches anything which isn't caught by the preceding conditions.\n",
        "a = 200\n",
        "b = 33\n",
        "if b > a:\n",
        "  print(\"b is greater than a\")\n",
        "elif a == b:\n",
        "  print(\"a and b are equal\")\n",
        "else:\n",
        "  print(\"a is greater than b\")\n",
        "\n",
        "\n",
        "# If you have only one statement to execute, you can put it on the same line as the if statement.\n",
        "a = 2\n",
        "b = 330\n",
        "print(\"A\") if a > b else print(\"B\")\n",
        "\n",
        "\n",
        "# The and keyword is a logical operator, and is used to combine conditional statements:\n",
        "a = 200\n",
        "b = 33\n",
        "c = 500\n",
        "if a > b and c > a:\n",
        "  print(\"Both conditions are True\")\n",
        "\n",
        "\n",
        "\n",
        "# The or keyword is a logical operator, and is used to combine conditional statements:\n",
        "a = 200\n",
        "b = 33\n",
        "c = 500\n",
        "if a > b or a > c:\n",
        "  print(\"At least one of the conditions is True\")\n",
        "\n",
        "# You can have if statements inside if statements, this is called nested if statements.\n",
        "\n",
        "x=31\n",
        "\n",
        "if x>10:\n",
        "  print('above 10')\n",
        "  if x>20:\n",
        "    print(\"and also greater than 20\")\n",
        "  else:\n",
        "    print(\"but not 20\")"
      ],
      "metadata": {
        "colab": {
          "base_uri": "https://localhost:8080/"
        },
        "id": "xtTcjYKWkMux",
        "outputId": "bc4b6322-f7b6-4ef8-ff4e-d2ace9425f78"
      },
      "execution_count": null,
      "outputs": [
        {
          "output_type": "stream",
          "name": "stdout",
          "text": [
            "a and b are equal\n",
            "a is greater than b\n",
            "B\n",
            "Both conditions are True\n",
            "At least one of the conditions is True\n",
            "above 10\n",
            "and also greater than 20\n"
          ]
        }
      ]
    },
    {
      "cell_type": "markdown",
      "source": [
        "# Python While Loops"
      ],
      "metadata": {
        "id": "fC6e-URwon_Z"
      }
    },
    {
      "cell_type": "code",
      "source": [
        "# With the while loop we can execute a set of statements as long as a condition is true.\n",
        "\n",
        "i=1;\n",
        "while i<6:\n",
        "  print(i)\n",
        "  i +=1\n",
        "else:\n",
        "  print('finished')\n",
        "\n",
        "# With the break statement we can stop the loop even if the while condition is true:\n",
        "\n",
        "i=1;\n",
        "while i<10:\n",
        "  print(i)\n",
        "  if i==3:\n",
        "    break;\n",
        "  i +=1\n",
        "\n",
        "# With the continue statement we can stop the current iteration, and continue with the next:\n",
        "i = 0\n",
        "while i < 6:\n",
        "  i += 1\n",
        "  if i == 3:\n",
        "    continue\n",
        "  print(i)\n"
      ],
      "metadata": {
        "colab": {
          "base_uri": "https://localhost:8080/"
        },
        "id": "gboYomNkopNM",
        "outputId": "b4b199e8-ab30-4b03-f5cc-a00daa6e73bb"
      },
      "execution_count": null,
      "outputs": [
        {
          "output_type": "stream",
          "name": "stdout",
          "text": [
            "1\n",
            "2\n",
            "3\n",
            "4\n",
            "5\n",
            "finished\n",
            "1\n",
            "2\n",
            "3\n",
            "1\n",
            "2\n",
            "4\n",
            "5\n",
            "6\n"
          ]
        }
      ]
    },
    {
      "cell_type": "markdown",
      "source": [
        "Python for loop"
      ],
      "metadata": {
        "id": "ui6GIFpf2uyr"
      }
    },
    {
      "cell_type": "code",
      "source": [
        "fruits = [\"apple\", \"banana\", \"cherry\"]\n",
        "for x in fruits:\n",
        "  if x == \"banana\":\n",
        "    continue\n",
        "  print(x)\n",
        "else:\n",
        "  print('finished')"
      ],
      "metadata": {
        "colab": {
          "base_uri": "https://localhost:8080/"
        },
        "id": "MgwCypYU2w9J",
        "outputId": "cce2b8ff-2c56-435c-ef91-96b05408ae6c"
      },
      "execution_count": null,
      "outputs": [
        {
          "output_type": "stream",
          "name": "stdout",
          "text": [
            "apple\n",
            "cherry\n",
            "finished\n"
          ]
        }
      ]
    },
    {
      "cell_type": "markdown",
      "source": [
        "# List"
      ],
      "metadata": {
        "id": "ynqS06lkLgNW"
      }
    },
    {
      "cell_type": "code",
      "source": [
        "# python list is changable,ordered,duplicate value accept.\n",
        "# list can be any type. such as int,float,string.\n",
        "lst=[1,2,3,4,5]\n",
        "print(lst)\n",
        "print(len(lst))\n",
        "print(type(lst))\n",
        "\n",
        "lst=['1','2','3']\n",
        "print(lst)\n",
        "print(len(lst))\n",
        "print(type(lst))\n",
        "\n",
        "lst=[True,False,True,True,False]\n",
        "print(lst)\n",
        "print(len(lst))\n",
        "print(type(lst))"
      ],
      "metadata": {
        "colab": {
          "base_uri": "https://localhost:8080/"
        },
        "id": "TWZQYg9yLjHo",
        "outputId": "a8baea53-8695-4b23-8104-15d464bdaf44"
      },
      "execution_count": null,
      "outputs": [
        {
          "output_type": "stream",
          "name": "stdout",
          "text": [
            "[1, 2, 3, 4, 5]\n",
            "5\n",
            "<class 'list'>\n",
            "['1', '2', '3']\n",
            "3\n",
            "<class 'list'>\n",
            "[True, False, True, True, False]\n",
            "5\n",
            "<class 'list'>\n"
          ]
        }
      ]
    },
    {
      "cell_type": "markdown",
      "source": [
        "Access List Item"
      ],
      "metadata": {
        "id": "QBNUjlUZNtly"
      }
    },
    {
      "cell_type": "code",
      "source": [
        "lst=[1,2,3,4,5]\n",
        "print(lst[3])\n",
        "print(lst[-1])\n",
        "print(lst[2:4]) # this will return the items from position 2 to 4.\n",
        "# Remember that the first item is position is 0, and the item ate position 4 is not include.\n",
        "print(lst[:3]) # returns item from beggining to, but not including position 3.\n",
        "print(lst[1:]) # returns item from position 1 to end.\n",
        "print(lst[-4:-1]) # not include last element.\n",
        "\n",
        "if 4 in lst:\n",
        "  print('yes')\n",
        "\n",
        "if 6 not in lst:\n",
        "  print(\"no\")"
      ],
      "metadata": {
        "colab": {
          "base_uri": "https://localhost:8080/"
        },
        "id": "RtT57Yg7Nw9C",
        "outputId": "6e26a6cf-8ce1-4cb9-88d5-2b2f082b090a"
      },
      "execution_count": null,
      "outputs": [
        {
          "output_type": "stream",
          "name": "stdout",
          "text": [
            "4\n",
            "5\n",
            "[3, 4]\n",
            "[1, 2, 3]\n",
            "[2, 3, 4, 5]\n",
            "[2, 3, 4]\n",
            "yes\n",
            "no\n"
          ]
        }
      ]
    },
    {
      "cell_type": "markdown",
      "source": [
        "Change List Item"
      ],
      "metadata": {
        "id": "qPKidvD_SZYZ"
      }
    },
    {
      "cell_type": "code",
      "source": [
        "lst=[1,2,3,4,5]\n",
        "lst[1]=10\n",
        "print(lst)\n",
        "\n",
        "lst[1:2]=[11,12]\n",
        "print(lst)\n",
        "\n",
        "lst.insert(2,15)\n",
        "print(lst)\n",
        "\n",
        "lst.insert(len(lst),20)\n",
        "print(lst)\n",
        "\n",
        "lst1=[6,7,8]\n",
        "lst.extend(lst1)\n",
        "print(lst)"
      ],
      "metadata": {
        "colab": {
          "base_uri": "https://localhost:8080/"
        },
        "id": "srxw6rtWSbyx",
        "outputId": "5c7d66a3-5226-4c75-c821-d00d9e831ca9"
      },
      "execution_count": null,
      "outputs": [
        {
          "output_type": "stream",
          "name": "stdout",
          "text": [
            "[1, 10, 3, 4, 5]\n",
            "[1, 11, 12, 3, 4, 5]\n",
            "[1, 11, 15, 12, 3, 4, 5]\n",
            "[1, 11, 15, 12, 3, 4, 5, 20]\n",
            "[1, 11, 15, 12, 3, 4, 5, 20, 6, 7, 8]\n"
          ]
        }
      ]
    },
    {
      "cell_type": "markdown",
      "source": [
        "Loop List\n"
      ],
      "metadata": {
        "id": "4LfwPyLlZuNI"
      }
    },
    {
      "cell_type": "code",
      "source": [
        "for i in range(len(lst)):\n",
        "  print(lst[i])\n",
        "\n",
        "print('using while loop')\n",
        "\n",
        "i=0;\n",
        "while i<len(lst):\n",
        "  print(lst[i])\n",
        "  i +=1"
      ],
      "metadata": {
        "colab": {
          "base_uri": "https://localhost:8080/"
        },
        "id": "6mE--wvWZt05",
        "outputId": "0b2b74f4-1c2b-46f8-934f-6cb3f821cd80"
      },
      "execution_count": null,
      "outputs": [
        {
          "output_type": "stream",
          "name": "stdout",
          "text": [
            "1\n",
            "11\n",
            "15\n",
            "12\n",
            "3\n",
            "4\n",
            "5\n",
            "20\n",
            "6\n",
            "7\n",
            "8\n",
            "using while loop\n",
            "1\n",
            "11\n",
            "15\n",
            "12\n",
            "3\n",
            "4\n",
            "5\n",
            "20\n",
            "6\n",
            "7\n",
            "8\n"
          ]
        }
      ]
    },
    {
      "cell_type": "markdown",
      "source": [
        "List Comprehension"
      ],
      "metadata": {
        "id": "fUANjnhqa3Kx"
      }
    },
    {
      "cell_type": "code",
      "source": [
        "newlist=[]\n",
        "for x in lst:\n",
        "  if x>5 :\n",
        "    newlist.append(x)\n",
        "print(newlist)"
      ],
      "metadata": {
        "colab": {
          "base_uri": "https://localhost:8080/"
        },
        "id": "oK3OaDrza5wE",
        "outputId": "9d3f0aae-8907-4024-d6dd-b2dff6e9b0aa"
      },
      "execution_count": null,
      "outputs": [
        {
          "output_type": "stream",
          "name": "stdout",
          "text": [
            "[11, 15, 12, 20, 6, 7, 8]\n"
          ]
        }
      ]
    },
    {
      "cell_type": "code",
      "source": [
        "newlist.sort()\n",
        "print(newlist)\n",
        "\n",
        "newlist.sort(reverse=True)\n",
        "print(newlist)\n",
        "\n",
        "lst.reverse()\n",
        "print(lst)"
      ],
      "metadata": {
        "colab": {
          "base_uri": "https://localhost:8080/"
        },
        "id": "T0ESZLZZbiJW",
        "outputId": "29cc5498-d440-4fc5-d92e-5f20a965b733"
      },
      "execution_count": null,
      "outputs": [
        {
          "output_type": "stream",
          "name": "stdout",
          "text": [
            "[6, 7, 8, 11, 12, 15, 20]\n",
            "[20, 15, 12, 11, 8, 7, 6]\n",
            "[8, 7, 6, 20, 5, 4, 3, 12, 15, 11, 1]\n"
          ]
        }
      ]
    },
    {
      "cell_type": "markdown",
      "source": [
        "# Print Something using Format function....."
      ],
      "metadata": {
        "id": "P-aDM6iySVvq"
      }
    },
    {
      "cell_type": "code",
      "source": [
        "a=3\n",
        "b=4\n",
        "print('a is {} and b is {}'.format(a,b))"
      ],
      "metadata": {
        "colab": {
          "base_uri": "https://localhost:8080/"
        },
        "id": "L9Ema8KgSdoW",
        "outputId": "6e22e8d2-c8bf-4d54-f09c-279830428464"
      },
      "execution_count": null,
      "outputs": [
        {
          "output_type": "stream",
          "name": "stdout",
          "text": [
            "a is 3 and b is 4\n"
          ]
        }
      ]
    },
    {
      "cell_type": "markdown",
      "source": [
        "###Python Password Generator"
      ],
      "metadata": {
        "id": "AeTGv1lk0Btr"
      }
    },
    {
      "cell_type": "code",
      "source": [
        "import random\n",
        "\n",
        "def random_password_generator():\n",
        "  length=8\n",
        "  chars=\"abcdefghijklmnopqrstuvwxyzABCDEFGHIJKLMNOPQRSTUVWXYZ0123456789\"\n",
        "  password=\"\"\n",
        "\n",
        "  for i in range(length):\n",
        "    password +=random.choice(chars)\n",
        "  return password\n",
        "\n",
        "password=random_password_generator()\n",
        "print(password)"
      ],
      "metadata": {
        "colab": {
          "base_uri": "https://localhost:8080/"
        },
        "id": "b5lSMdwm0BJp",
        "outputId": "4e765ea5-5181-487d-a3b6-ce0e53352bb4"
      },
      "execution_count": null,
      "outputs": [
        {
          "output_type": "stream",
          "name": "stdout",
          "text": [
            "okjUpQK4\n"
          ]
        }
      ]
    },
    {
      "cell_type": "markdown",
      "source": [
        "###Factorial of a number"
      ],
      "metadata": {
        "id": "pqbhVkv71F5C"
      }
    },
    {
      "cell_type": "code",
      "source": [
        "def fact(n):\n",
        "  if n==0 or n==1:\n",
        "    return 1\n",
        "  else:\n",
        "    return n*fact(n-1)\n",
        "\n",
        "\n",
        "\n",
        "print(\"Enter a number: \")\n",
        "n=int(input())\n",
        "factorial=fact(n)\n",
        "print(f\"The factorial of {n} is {factorial}\")"
      ],
      "metadata": {
        "colab": {
          "base_uri": "https://localhost:8080/"
        },
        "id": "rXF2Un3Q1Tc_",
        "outputId": "cdadef50-6a37-4457-de38-e6f05db87a6d"
      },
      "execution_count": null,
      "outputs": [
        {
          "output_type": "stream",
          "name": "stdout",
          "text": [
            "Enter a number: \n",
            "5\n",
            "The factorial of 5 is 120\n"
          ]
        }
      ]
    },
    {
      "cell_type": "markdown",
      "source": [
        "# Python function"
      ],
      "metadata": {
        "id": "QwvcMlkQbS0x"
      }
    },
    {
      "cell_type": "code",
      "source": [
        "def full_name(f_name,l_name):\n",
        "  print(\"my first name is {}\".format(f_name))\n",
        "  print(\"my last name is {}\".format(l_name))\n",
        "  print(\"my full name is {}\".format(f_name,l_name))\n",
        "\n",
        "full_name(\"Nazmul\",\"Haque\")\n",
        "full_name(l_name=\"Rahman\",f_name=\"Mizanur\")"
      ],
      "metadata": {
        "colab": {
          "base_uri": "https://localhost:8080/"
        },
        "id": "eXXAuqnnbZwo",
        "outputId": "9d8040d8-788e-4bc9-e805-bbbf76cacd2a"
      },
      "execution_count": null,
      "outputs": [
        {
          "output_type": "stream",
          "name": "stdout",
          "text": [
            "my first name is Nazmul\n",
            "my last name is Haque\n",
            "my full name is Nazmul\n",
            "my first name is Mizanur\n",
            "my last name is Rahman\n",
            "my full name is Mizanur\n"
          ]
        }
      ]
    },
    {
      "cell_type": "markdown",
      "source": [
        "Time and Date"
      ],
      "metadata": {
        "id": "HjMSRRbUfmgc"
      }
    },
    {
      "cell_type": "code",
      "source": [
        "import time\n",
        "print(time.time())   # time() function return the current time in seconds..\n",
        "\n",
        "seconds=1698718218.4491515\n",
        "print(time.ctime(seconds)) # ctime() function return the current date...\n",
        "\n",
        "print(\"I Love You\") # sleep function gives the output after the define particular time...\n",
        "time.sleep(3)\n",
        "print(\"Allah\")\n",
        "\n",
        "import datetime\n",
        "print(datetime.date.today())\n",
        "\n",
        "print(datetime.datetime.utcnow())\n"
      ],
      "metadata": {
        "colab": {
          "base_uri": "https://localhost:8080/"
        },
        "id": "pnfz8N0lfpL7",
        "outputId": "4ab54782-09e6-483b-f83a-3d3d696f585c"
      },
      "execution_count": null,
      "outputs": [
        {
          "output_type": "stream",
          "name": "stdout",
          "text": [
            "1698719001.4067845\n",
            "Tue Oct 31 02:10:18 2023\n",
            "I Love You\n",
            "Allah\n",
            "2023-10-31\n",
            "2023-10-31 02:23:24.421126\n"
          ]
        }
      ]
    },
    {
      "cell_type": "markdown",
      "source": [
        "# Object Oriented Programming"
      ],
      "metadata": {
        "id": "tvZwPyomtfps"
      }
    },
    {
      "cell_type": "code",
      "source": [
        "\n",
        "class person:\n",
        "\n",
        "  def __init__(self,name,age,gender):\n",
        "    self.name=name\n",
        "    self.age=age\n",
        "    self.gender=gender\n",
        "\n",
        "\n",
        "p1=person(\"nazmul\",23,\"male\")\n",
        "\n",
        "print(p1.name)\n",
        "print(p1.age)\n",
        "print(p1.gender)"
      ],
      "metadata": {
        "colab": {
          "base_uri": "https://localhost:8080/"
        },
        "id": "w_WNDB1EgS7m",
        "outputId": "4bcd2795-607e-47b7-8706-d9cdfe37b654"
      },
      "execution_count": null,
      "outputs": [
        {
          "output_type": "stream",
          "name": "stdout",
          "text": [
            "nazmul\n",
            "23\n",
            "male\n"
          ]
        }
      ]
    }
  ]
}